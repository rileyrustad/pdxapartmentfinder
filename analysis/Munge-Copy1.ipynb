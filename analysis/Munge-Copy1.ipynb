{
 "cells": [
  {
   "cell_type": "code",
   "execution_count": 1,
   "metadata": {
    "collapsed": false
   },
   "outputs": [],
   "source": [
    "import numpy as np\n",
    "import pandas as pd\n",
    "from pandas import DataFrame, Series\n",
    "import json"
   ]
  },
  {
   "cell_type": "markdown",
   "metadata": {},
   "source": [
    "## Load the data from our JSON file. \n",
    "The data is stored as a dictionary of dictionaries in the json file. We store it that way beacause it's easy to add data to the existing master data file. Also, I haven't figured out how to get it in a database yet."
   ]
  },
  {
   "cell_type": "code",
   "execution_count": 31,
   "metadata": {
    "collapsed": true
   },
   "outputs": [],
   "source": [
    "with open('../pipeline/data/ProcessedDay90ApartmentData.json') as g:\n",
    "    my_dict2 = json.load(g)"
   ]
  },
  {
   "cell_type": "code",
   "execution_count": 32,
   "metadata": {
    "collapsed": false,
    "scrolled": false
   },
   "outputs": [
    {
     "data": {
      "text/html": [
       "<div>\n",
       "<table border=\"1\" class=\"dataframe\">\n",
       "  <thead>\n",
       "    <tr style=\"text-align: right;\">\n",
       "      <th></th>\n",
       "      <th>content</th>\n",
       "      <th>laundry</th>\n",
       "      <th>price</th>\n",
       "      <th>dog</th>\n",
       "      <th>bed</th>\n",
       "      <th>bath</th>\n",
       "      <th>feet</th>\n",
       "      <th>long</th>\n",
       "      <th>parking</th>\n",
       "      <th>lat</th>\n",
       "      <th>smoking</th>\n",
       "      <th>getphotos</th>\n",
       "      <th>cat</th>\n",
       "      <th>hasmap</th>\n",
       "      <th>wheelchair</th>\n",
       "      <th>housingtype</th>\n",
       "    </tr>\n",
       "  </thead>\n",
       "  <tbody>\n",
       "    <tr>\n",
       "      <th>count</th>\n",
       "      <td>32223</td>\n",
       "      <td>32223</td>\n",
       "      <td>32223</td>\n",
       "      <td>32223</td>\n",
       "      <td>32223</td>\n",
       "      <td>32223</td>\n",
       "      <td>32223.000000</td>\n",
       "      <td>32223.000000</td>\n",
       "      <td>32223</td>\n",
       "      <td>32223.00000</td>\n",
       "      <td>32223</td>\n",
       "      <td>32223</td>\n",
       "      <td>32223</td>\n",
       "      <td>32223</td>\n",
       "      <td>32223</td>\n",
       "      <td>32223</td>\n",
       "    </tr>\n",
       "    <tr>\n",
       "      <th>unique</th>\n",
       "      <td>3873</td>\n",
       "      <td>5</td>\n",
       "      <td>2004</td>\n",
       "      <td>2</td>\n",
       "      <td>9</td>\n",
       "      <td>16</td>\n",
       "      <td>1461.000000</td>\n",
       "      <td>6131.000000</td>\n",
       "      <td>7</td>\n",
       "      <td>6000.00000</td>\n",
       "      <td>2</td>\n",
       "      <td>24</td>\n",
       "      <td>2</td>\n",
       "      <td>2</td>\n",
       "      <td>1</td>\n",
       "      <td>11</td>\n",
       "    </tr>\n",
       "    <tr>\n",
       "      <th>top</th>\n",
       "      <td>967</td>\n",
       "      <td>w/d in unit</td>\n",
       "      <td>995</td>\n",
       "      <td>1</td>\n",
       "      <td>1</td>\n",
       "      <td>1</td>\n",
       "      <td>903.863061</td>\n",
       "      <td>-122.631076</td>\n",
       "      <td>off-street parking</td>\n",
       "      <td>45.51843</td>\n",
       "      <td>no smoking</td>\n",
       "      <td>8</td>\n",
       "      <td>1</td>\n",
       "      <td>1</td>\n",
       "      <td>no wheelchair access</td>\n",
       "      <td>apartment</td>\n",
       "    </tr>\n",
       "    <tr>\n",
       "      <th>freq</th>\n",
       "      <td>174</td>\n",
       "      <td>21669</td>\n",
       "      <td>678</td>\n",
       "      <td>20511</td>\n",
       "      <td>12459</td>\n",
       "      <td>22550</td>\n",
       "      <td>3764.000000</td>\n",
       "      <td>1829.000000</td>\n",
       "      <td>16284</td>\n",
       "      <td>1829.00000</td>\n",
       "      <td>19621</td>\n",
       "      <td>3224</td>\n",
       "      <td>21850</td>\n",
       "      <td>30434</td>\n",
       "      <td>32223</td>\n",
       "      <td>25285</td>\n",
       "    </tr>\n",
       "  </tbody>\n",
       "</table>\n",
       "</div>"
      ],
      "text/plain": [
       "        content      laundry  price    dog    bed   bath          feet  \\\n",
       "count     32223        32223  32223  32223  32223  32223  32223.000000   \n",
       "unique     3873            5   2004      2      9     16   1461.000000   \n",
       "top         967  w/d in unit    995      1      1      1    903.863061   \n",
       "freq        174        21669    678  20511  12459  22550   3764.000000   \n",
       "\n",
       "                long             parking          lat     smoking  getphotos  \\\n",
       "count   32223.000000               32223  32223.00000       32223      32223   \n",
       "unique   6131.000000                   7   6000.00000           2         24   \n",
       "top      -122.631076  off-street parking     45.51843  no smoking          8   \n",
       "freq     1829.000000               16284   1829.00000       19621       3224   \n",
       "\n",
       "          cat  hasmap            wheelchair housingtype  \n",
       "count   32223   32223                 32223       32223  \n",
       "unique      2       2                     1          11  \n",
       "top         1       1  no wheelchair access   apartment  \n",
       "freq    21850   30434                 32223       25285  "
      ]
     },
     "execution_count": 32,
     "metadata": {},
     "output_type": "execute_result"
    }
   ],
   "source": [
    "dframe2 = DataFrame(my_dict2)\n",
    "dframe2 = dframe2.T\n",
    "dframe2 = dframe2[['content', 'laundry',  'price', 'dog', 'bed', \n",
    "'bath', 'feet', 'long', 'parking', 'lat', 'smoking', 'getphotos', \n",
    "'cat', 'hasmap', 'wheelchair', 'housingtype']]\n",
    "dframe2.describe()"
   ]
  },
  {
   "cell_type": "code",
   "execution_count": 67,
   "metadata": {
    "collapsed": true
   },
   "outputs": [],
   "source": [
    "dframe = pd.get_dummies(dframe2, columns = ['laundry', 'parking', 'smoking', 'wheelchair', 'housingtype'])"
   ]
  },
  {
   "cell_type": "code",
   "execution_count": 35,
   "metadata": {
    "collapsed": false
   },
   "outputs": [],
   "source": [
    "pd.set_option('display.max_columns', 500)"
   ]
  },
  {
   "cell_type": "code",
   "execution_count": null,
   "metadata": {
    "collapsed": true
   },
   "outputs": [],
   "source": [
    "dframe = df"
   ]
  },
  {
   "cell_type": "code",
   "execution_count": 36,
   "metadata": {
    "collapsed": false
   },
   "outputs": [],
   "source": [
    "from sklearn.cross_validation import train_test_split, ShuffleSplit\n"
   ]
  },
  {
   "cell_type": "code",
   "execution_count": 47,
   "metadata": {
    "collapsed": false
   },
   "outputs": [],
   "source": [
    "from sklearn.ensemble import RandomForestRegressor\n",
    "from sklearn.metrics import accuracy_score as acc"
   ]
  },
  {
   "cell_type": "code",
   "execution_count": 71,
   "metadata": {
    "collapsed": false
   },
   "outputs": [
    {
     "data": {
      "text/html": [
       "<div>\n",
       "<table border=\"1\" class=\"dataframe\">\n",
       "  <thead>\n",
       "    <tr style=\"text-align: right;\">\n",
       "      <th></th>\n",
       "      <th>content</th>\n",
       "      <th>price</th>\n",
       "      <th>dog</th>\n",
       "      <th>bed</th>\n",
       "      <th>bath</th>\n",
       "      <th>feet</th>\n",
       "      <th>long</th>\n",
       "      <th>lat</th>\n",
       "      <th>getphotos</th>\n",
       "      <th>cat</th>\n",
       "      <th>hasmap</th>\n",
       "      <th>laundry_laundry in bldg</th>\n",
       "      <th>laundry_laundry on site</th>\n",
       "      <th>laundry_no laundry on site</th>\n",
       "      <th>laundry_w/d hookups</th>\n",
       "      <th>laundry_w/d in unit</th>\n",
       "      <th>parking_attached garage</th>\n",
       "      <th>parking_carport</th>\n",
       "      <th>parking_detached garage</th>\n",
       "      <th>parking_no parking</th>\n",
       "      <th>parking_off-street parking</th>\n",
       "      <th>parking_street parking</th>\n",
       "      <th>parking_valet parking</th>\n",
       "      <th>smoking_no smoking</th>\n",
       "      <th>smoking_smoking</th>\n",
       "      <th>wheelchair_no wheelchair access</th>\n",
       "      <th>housingtype_apartment</th>\n",
       "      <th>housingtype_condo</th>\n",
       "      <th>housingtype_cottage/cabin</th>\n",
       "      <th>housingtype_duplex</th>\n",
       "      <th>housingtype_flat</th>\n",
       "      <th>housingtype_house</th>\n",
       "      <th>housingtype_in-law</th>\n",
       "      <th>housingtype_land</th>\n",
       "      <th>housingtype_loft</th>\n",
       "      <th>housingtype_manufactured</th>\n",
       "      <th>housingtype_townhouse</th>\n",
       "    </tr>\n",
       "  </thead>\n",
       "  <tbody>\n",
       "    <tr>\n",
       "      <th>count</th>\n",
       "      <td>32223</td>\n",
       "      <td>32223</td>\n",
       "      <td>32223</td>\n",
       "      <td>32223</td>\n",
       "      <td>32223</td>\n",
       "      <td>32223.000000</td>\n",
       "      <td>32223.000000</td>\n",
       "      <td>32223.00000</td>\n",
       "      <td>32223</td>\n",
       "      <td>32223</td>\n",
       "      <td>32223</td>\n",
       "      <td>32223.000000</td>\n",
       "      <td>32223.000000</td>\n",
       "      <td>32223.000000</td>\n",
       "      <td>32223.000000</td>\n",
       "      <td>32223.00000</td>\n",
       "      <td>32223.000000</td>\n",
       "      <td>32223.000000</td>\n",
       "      <td>32223.000000</td>\n",
       "      <td>32223.000000</td>\n",
       "      <td>32223.000000</td>\n",
       "      <td>32223.000000</td>\n",
       "      <td>32223.000000</td>\n",
       "      <td>32223.000000</td>\n",
       "      <td>32223.000000</td>\n",
       "      <td>32223</td>\n",
       "      <td>32223.000000</td>\n",
       "      <td>32223.000000</td>\n",
       "      <td>32223.000000</td>\n",
       "      <td>32223.000000</td>\n",
       "      <td>32223.000000</td>\n",
       "      <td>32223.000000</td>\n",
       "      <td>32223.000000</td>\n",
       "      <td>32223.000000</td>\n",
       "      <td>32223.000000</td>\n",
       "      <td>32223.000000</td>\n",
       "      <td>32223.000000</td>\n",
       "    </tr>\n",
       "    <tr>\n",
       "      <th>unique</th>\n",
       "      <td>3873</td>\n",
       "      <td>2004</td>\n",
       "      <td>2</td>\n",
       "      <td>9</td>\n",
       "      <td>16</td>\n",
       "      <td>1461.000000</td>\n",
       "      <td>6131.000000</td>\n",
       "      <td>6000.00000</td>\n",
       "      <td>24</td>\n",
       "      <td>2</td>\n",
       "      <td>2</td>\n",
       "      <td>NaN</td>\n",
       "      <td>NaN</td>\n",
       "      <td>NaN</td>\n",
       "      <td>NaN</td>\n",
       "      <td>NaN</td>\n",
       "      <td>NaN</td>\n",
       "      <td>NaN</td>\n",
       "      <td>NaN</td>\n",
       "      <td>NaN</td>\n",
       "      <td>NaN</td>\n",
       "      <td>NaN</td>\n",
       "      <td>NaN</td>\n",
       "      <td>NaN</td>\n",
       "      <td>NaN</td>\n",
       "      <td>NaN</td>\n",
       "      <td>NaN</td>\n",
       "      <td>NaN</td>\n",
       "      <td>NaN</td>\n",
       "      <td>NaN</td>\n",
       "      <td>NaN</td>\n",
       "      <td>NaN</td>\n",
       "      <td>NaN</td>\n",
       "      <td>NaN</td>\n",
       "      <td>NaN</td>\n",
       "      <td>NaN</td>\n",
       "      <td>NaN</td>\n",
       "    </tr>\n",
       "    <tr>\n",
       "      <th>top</th>\n",
       "      <td>967</td>\n",
       "      <td>995</td>\n",
       "      <td>1</td>\n",
       "      <td>1</td>\n",
       "      <td>1</td>\n",
       "      <td>903.863061</td>\n",
       "      <td>-122.631076</td>\n",
       "      <td>45.51843</td>\n",
       "      <td>8</td>\n",
       "      <td>1</td>\n",
       "      <td>1</td>\n",
       "      <td>NaN</td>\n",
       "      <td>NaN</td>\n",
       "      <td>NaN</td>\n",
       "      <td>NaN</td>\n",
       "      <td>NaN</td>\n",
       "      <td>NaN</td>\n",
       "      <td>NaN</td>\n",
       "      <td>NaN</td>\n",
       "      <td>NaN</td>\n",
       "      <td>NaN</td>\n",
       "      <td>NaN</td>\n",
       "      <td>NaN</td>\n",
       "      <td>NaN</td>\n",
       "      <td>NaN</td>\n",
       "      <td>NaN</td>\n",
       "      <td>NaN</td>\n",
       "      <td>NaN</td>\n",
       "      <td>NaN</td>\n",
       "      <td>NaN</td>\n",
       "      <td>NaN</td>\n",
       "      <td>NaN</td>\n",
       "      <td>NaN</td>\n",
       "      <td>NaN</td>\n",
       "      <td>NaN</td>\n",
       "      <td>NaN</td>\n",
       "      <td>NaN</td>\n",
       "    </tr>\n",
       "    <tr>\n",
       "      <th>freq</th>\n",
       "      <td>174</td>\n",
       "      <td>678</td>\n",
       "      <td>20511</td>\n",
       "      <td>12459</td>\n",
       "      <td>22550</td>\n",
       "      <td>3764.000000</td>\n",
       "      <td>1829.000000</td>\n",
       "      <td>1829.00000</td>\n",
       "      <td>3224</td>\n",
       "      <td>21850</td>\n",
       "      <td>30434</td>\n",
       "      <td>NaN</td>\n",
       "      <td>NaN</td>\n",
       "      <td>NaN</td>\n",
       "      <td>NaN</td>\n",
       "      <td>NaN</td>\n",
       "      <td>NaN</td>\n",
       "      <td>NaN</td>\n",
       "      <td>NaN</td>\n",
       "      <td>NaN</td>\n",
       "      <td>NaN</td>\n",
       "      <td>NaN</td>\n",
       "      <td>NaN</td>\n",
       "      <td>NaN</td>\n",
       "      <td>NaN</td>\n",
       "      <td>NaN</td>\n",
       "      <td>NaN</td>\n",
       "      <td>NaN</td>\n",
       "      <td>NaN</td>\n",
       "      <td>NaN</td>\n",
       "      <td>NaN</td>\n",
       "      <td>NaN</td>\n",
       "      <td>NaN</td>\n",
       "      <td>NaN</td>\n",
       "      <td>NaN</td>\n",
       "      <td>NaN</td>\n",
       "      <td>NaN</td>\n",
       "    </tr>\n",
       "    <tr>\n",
       "      <th>mean</th>\n",
       "      <td>NaN</td>\n",
       "      <td>NaN</td>\n",
       "      <td>NaN</td>\n",
       "      <td>NaN</td>\n",
       "      <td>NaN</td>\n",
       "      <td>NaN</td>\n",
       "      <td>NaN</td>\n",
       "      <td>NaN</td>\n",
       "      <td>NaN</td>\n",
       "      <td>NaN</td>\n",
       "      <td>NaN</td>\n",
       "      <td>0.108277</td>\n",
       "      <td>0.151755</td>\n",
       "      <td>0.006083</td>\n",
       "      <td>0.061416</td>\n",
       "      <td>0.67247</td>\n",
       "      <td>0.198243</td>\n",
       "      <td>0.079664</td>\n",
       "      <td>0.062005</td>\n",
       "      <td>0.013438</td>\n",
       "      <td>0.505353</td>\n",
       "      <td>0.141110</td>\n",
       "      <td>0.000186</td>\n",
       "      <td>0.608913</td>\n",
       "      <td>0.391087</td>\n",
       "      <td>1</td>\n",
       "      <td>0.784688</td>\n",
       "      <td>0.037427</td>\n",
       "      <td>0.001428</td>\n",
       "      <td>0.022717</td>\n",
       "      <td>0.010086</td>\n",
       "      <td>0.097880</td>\n",
       "      <td>0.001583</td>\n",
       "      <td>0.000279</td>\n",
       "      <td>0.004127</td>\n",
       "      <td>0.000497</td>\n",
       "      <td>0.039289</td>\n",
       "    </tr>\n",
       "    <tr>\n",
       "      <th>std</th>\n",
       "      <td>NaN</td>\n",
       "      <td>NaN</td>\n",
       "      <td>NaN</td>\n",
       "      <td>NaN</td>\n",
       "      <td>NaN</td>\n",
       "      <td>NaN</td>\n",
       "      <td>NaN</td>\n",
       "      <td>NaN</td>\n",
       "      <td>NaN</td>\n",
       "      <td>NaN</td>\n",
       "      <td>NaN</td>\n",
       "      <td>0.310734</td>\n",
       "      <td>0.358789</td>\n",
       "      <td>0.077755</td>\n",
       "      <td>0.240095</td>\n",
       "      <td>0.46932</td>\n",
       "      <td>0.398683</td>\n",
       "      <td>0.270776</td>\n",
       "      <td>0.241169</td>\n",
       "      <td>0.115141</td>\n",
       "      <td>0.499979</td>\n",
       "      <td>0.348141</td>\n",
       "      <td>0.013645</td>\n",
       "      <td>0.488001</td>\n",
       "      <td>0.488001</td>\n",
       "      <td>0</td>\n",
       "      <td>0.411045</td>\n",
       "      <td>0.189808</td>\n",
       "      <td>0.037757</td>\n",
       "      <td>0.149001</td>\n",
       "      <td>0.099923</td>\n",
       "      <td>0.297157</td>\n",
       "      <td>0.039753</td>\n",
       "      <td>0.016710</td>\n",
       "      <td>0.064114</td>\n",
       "      <td>0.022278</td>\n",
       "      <td>0.194284</td>\n",
       "    </tr>\n",
       "    <tr>\n",
       "      <th>min</th>\n",
       "      <td>NaN</td>\n",
       "      <td>NaN</td>\n",
       "      <td>NaN</td>\n",
       "      <td>NaN</td>\n",
       "      <td>NaN</td>\n",
       "      <td>NaN</td>\n",
       "      <td>NaN</td>\n",
       "      <td>NaN</td>\n",
       "      <td>NaN</td>\n",
       "      <td>NaN</td>\n",
       "      <td>NaN</td>\n",
       "      <td>0.000000</td>\n",
       "      <td>0.000000</td>\n",
       "      <td>0.000000</td>\n",
       "      <td>0.000000</td>\n",
       "      <td>0.00000</td>\n",
       "      <td>0.000000</td>\n",
       "      <td>0.000000</td>\n",
       "      <td>0.000000</td>\n",
       "      <td>0.000000</td>\n",
       "      <td>0.000000</td>\n",
       "      <td>0.000000</td>\n",
       "      <td>0.000000</td>\n",
       "      <td>0.000000</td>\n",
       "      <td>0.000000</td>\n",
       "      <td>1</td>\n",
       "      <td>0.000000</td>\n",
       "      <td>0.000000</td>\n",
       "      <td>0.000000</td>\n",
       "      <td>0.000000</td>\n",
       "      <td>0.000000</td>\n",
       "      <td>0.000000</td>\n",
       "      <td>0.000000</td>\n",
       "      <td>0.000000</td>\n",
       "      <td>0.000000</td>\n",
       "      <td>0.000000</td>\n",
       "      <td>0.000000</td>\n",
       "    </tr>\n",
       "    <tr>\n",
       "      <th>25%</th>\n",
       "      <td>NaN</td>\n",
       "      <td>NaN</td>\n",
       "      <td>NaN</td>\n",
       "      <td>NaN</td>\n",
       "      <td>NaN</td>\n",
       "      <td>NaN</td>\n",
       "      <td>NaN</td>\n",
       "      <td>NaN</td>\n",
       "      <td>NaN</td>\n",
       "      <td>NaN</td>\n",
       "      <td>NaN</td>\n",
       "      <td>0.000000</td>\n",
       "      <td>0.000000</td>\n",
       "      <td>0.000000</td>\n",
       "      <td>0.000000</td>\n",
       "      <td>0.00000</td>\n",
       "      <td>0.000000</td>\n",
       "      <td>0.000000</td>\n",
       "      <td>0.000000</td>\n",
       "      <td>0.000000</td>\n",
       "      <td>0.000000</td>\n",
       "      <td>0.000000</td>\n",
       "      <td>0.000000</td>\n",
       "      <td>0.000000</td>\n",
       "      <td>0.000000</td>\n",
       "      <td>1</td>\n",
       "      <td>1.000000</td>\n",
       "      <td>0.000000</td>\n",
       "      <td>0.000000</td>\n",
       "      <td>0.000000</td>\n",
       "      <td>0.000000</td>\n",
       "      <td>0.000000</td>\n",
       "      <td>0.000000</td>\n",
       "      <td>0.000000</td>\n",
       "      <td>0.000000</td>\n",
       "      <td>0.000000</td>\n",
       "      <td>0.000000</td>\n",
       "    </tr>\n",
       "    <tr>\n",
       "      <th>50%</th>\n",
       "      <td>NaN</td>\n",
       "      <td>NaN</td>\n",
       "      <td>NaN</td>\n",
       "      <td>NaN</td>\n",
       "      <td>NaN</td>\n",
       "      <td>NaN</td>\n",
       "      <td>NaN</td>\n",
       "      <td>NaN</td>\n",
       "      <td>NaN</td>\n",
       "      <td>NaN</td>\n",
       "      <td>NaN</td>\n",
       "      <td>0.000000</td>\n",
       "      <td>0.000000</td>\n",
       "      <td>0.000000</td>\n",
       "      <td>0.000000</td>\n",
       "      <td>1.00000</td>\n",
       "      <td>0.000000</td>\n",
       "      <td>0.000000</td>\n",
       "      <td>0.000000</td>\n",
       "      <td>0.000000</td>\n",
       "      <td>1.000000</td>\n",
       "      <td>0.000000</td>\n",
       "      <td>0.000000</td>\n",
       "      <td>1.000000</td>\n",
       "      <td>0.000000</td>\n",
       "      <td>1</td>\n",
       "      <td>1.000000</td>\n",
       "      <td>0.000000</td>\n",
       "      <td>0.000000</td>\n",
       "      <td>0.000000</td>\n",
       "      <td>0.000000</td>\n",
       "      <td>0.000000</td>\n",
       "      <td>0.000000</td>\n",
       "      <td>0.000000</td>\n",
       "      <td>0.000000</td>\n",
       "      <td>0.000000</td>\n",
       "      <td>0.000000</td>\n",
       "    </tr>\n",
       "    <tr>\n",
       "      <th>75%</th>\n",
       "      <td>NaN</td>\n",
       "      <td>NaN</td>\n",
       "      <td>NaN</td>\n",
       "      <td>NaN</td>\n",
       "      <td>NaN</td>\n",
       "      <td>NaN</td>\n",
       "      <td>NaN</td>\n",
       "      <td>NaN</td>\n",
       "      <td>NaN</td>\n",
       "      <td>NaN</td>\n",
       "      <td>NaN</td>\n",
       "      <td>0.000000</td>\n",
       "      <td>0.000000</td>\n",
       "      <td>0.000000</td>\n",
       "      <td>0.000000</td>\n",
       "      <td>1.00000</td>\n",
       "      <td>0.000000</td>\n",
       "      <td>0.000000</td>\n",
       "      <td>0.000000</td>\n",
       "      <td>0.000000</td>\n",
       "      <td>1.000000</td>\n",
       "      <td>0.000000</td>\n",
       "      <td>0.000000</td>\n",
       "      <td>1.000000</td>\n",
       "      <td>1.000000</td>\n",
       "      <td>1</td>\n",
       "      <td>1.000000</td>\n",
       "      <td>0.000000</td>\n",
       "      <td>0.000000</td>\n",
       "      <td>0.000000</td>\n",
       "      <td>0.000000</td>\n",
       "      <td>0.000000</td>\n",
       "      <td>0.000000</td>\n",
       "      <td>0.000000</td>\n",
       "      <td>0.000000</td>\n",
       "      <td>0.000000</td>\n",
       "      <td>0.000000</td>\n",
       "    </tr>\n",
       "    <tr>\n",
       "      <th>max</th>\n",
       "      <td>NaN</td>\n",
       "      <td>NaN</td>\n",
       "      <td>NaN</td>\n",
       "      <td>NaN</td>\n",
       "      <td>NaN</td>\n",
       "      <td>NaN</td>\n",
       "      <td>NaN</td>\n",
       "      <td>NaN</td>\n",
       "      <td>NaN</td>\n",
       "      <td>NaN</td>\n",
       "      <td>NaN</td>\n",
       "      <td>1.000000</td>\n",
       "      <td>1.000000</td>\n",
       "      <td>1.000000</td>\n",
       "      <td>1.000000</td>\n",
       "      <td>1.00000</td>\n",
       "      <td>1.000000</td>\n",
       "      <td>1.000000</td>\n",
       "      <td>1.000000</td>\n",
       "      <td>1.000000</td>\n",
       "      <td>1.000000</td>\n",
       "      <td>1.000000</td>\n",
       "      <td>1.000000</td>\n",
       "      <td>1.000000</td>\n",
       "      <td>1.000000</td>\n",
       "      <td>1</td>\n",
       "      <td>1.000000</td>\n",
       "      <td>1.000000</td>\n",
       "      <td>1.000000</td>\n",
       "      <td>1.000000</td>\n",
       "      <td>1.000000</td>\n",
       "      <td>1.000000</td>\n",
       "      <td>1.000000</td>\n",
       "      <td>1.000000</td>\n",
       "      <td>1.000000</td>\n",
       "      <td>1.000000</td>\n",
       "      <td>1.000000</td>\n",
       "    </tr>\n",
       "  </tbody>\n",
       "</table>\n",
       "</div>"
      ],
      "text/plain": [
       "        content  price    dog    bed   bath          feet          long  \\\n",
       "count     32223  32223  32223  32223  32223  32223.000000  32223.000000   \n",
       "unique     3873   2004      2      9     16   1461.000000   6131.000000   \n",
       "top         967    995      1      1      1    903.863061   -122.631076   \n",
       "freq        174    678  20511  12459  22550   3764.000000   1829.000000   \n",
       "mean        NaN    NaN    NaN    NaN    NaN           NaN           NaN   \n",
       "std         NaN    NaN    NaN    NaN    NaN           NaN           NaN   \n",
       "min         NaN    NaN    NaN    NaN    NaN           NaN           NaN   \n",
       "25%         NaN    NaN    NaN    NaN    NaN           NaN           NaN   \n",
       "50%         NaN    NaN    NaN    NaN    NaN           NaN           NaN   \n",
       "75%         NaN    NaN    NaN    NaN    NaN           NaN           NaN   \n",
       "max         NaN    NaN    NaN    NaN    NaN           NaN           NaN   \n",
       "\n",
       "                lat  getphotos    cat  hasmap  laundry_laundry in bldg  \\\n",
       "count   32223.00000      32223  32223   32223             32223.000000   \n",
       "unique   6000.00000         24      2       2                      NaN   \n",
       "top        45.51843          8      1       1                      NaN   \n",
       "freq     1829.00000       3224  21850   30434                      NaN   \n",
       "mean            NaN        NaN    NaN     NaN                 0.108277   \n",
       "std             NaN        NaN    NaN     NaN                 0.310734   \n",
       "min             NaN        NaN    NaN     NaN                 0.000000   \n",
       "25%             NaN        NaN    NaN     NaN                 0.000000   \n",
       "50%             NaN        NaN    NaN     NaN                 0.000000   \n",
       "75%             NaN        NaN    NaN     NaN                 0.000000   \n",
       "max             NaN        NaN    NaN     NaN                 1.000000   \n",
       "\n",
       "        laundry_laundry on site  laundry_no laundry on site  \\\n",
       "count              32223.000000                32223.000000   \n",
       "unique                      NaN                         NaN   \n",
       "top                         NaN                         NaN   \n",
       "freq                        NaN                         NaN   \n",
       "mean                   0.151755                    0.006083   \n",
       "std                    0.358789                    0.077755   \n",
       "min                    0.000000                    0.000000   \n",
       "25%                    0.000000                    0.000000   \n",
       "50%                    0.000000                    0.000000   \n",
       "75%                    0.000000                    0.000000   \n",
       "max                    1.000000                    1.000000   \n",
       "\n",
       "        laundry_w/d hookups  laundry_w/d in unit  parking_attached garage  \\\n",
       "count          32223.000000          32223.00000             32223.000000   \n",
       "unique                  NaN                  NaN                      NaN   \n",
       "top                     NaN                  NaN                      NaN   \n",
       "freq                    NaN                  NaN                      NaN   \n",
       "mean               0.061416              0.67247                 0.198243   \n",
       "std                0.240095              0.46932                 0.398683   \n",
       "min                0.000000              0.00000                 0.000000   \n",
       "25%                0.000000              0.00000                 0.000000   \n",
       "50%                0.000000              1.00000                 0.000000   \n",
       "75%                0.000000              1.00000                 0.000000   \n",
       "max                1.000000              1.00000                 1.000000   \n",
       "\n",
       "        parking_carport  parking_detached garage  parking_no parking  \\\n",
       "count      32223.000000             32223.000000        32223.000000   \n",
       "unique              NaN                      NaN                 NaN   \n",
       "top                 NaN                      NaN                 NaN   \n",
       "freq                NaN                      NaN                 NaN   \n",
       "mean           0.079664                 0.062005            0.013438   \n",
       "std            0.270776                 0.241169            0.115141   \n",
       "min            0.000000                 0.000000            0.000000   \n",
       "25%            0.000000                 0.000000            0.000000   \n",
       "50%            0.000000                 0.000000            0.000000   \n",
       "75%            0.000000                 0.000000            0.000000   \n",
       "max            1.000000                 1.000000            1.000000   \n",
       "\n",
       "        parking_off-street parking  parking_street parking  \\\n",
       "count                 32223.000000            32223.000000   \n",
       "unique                         NaN                     NaN   \n",
       "top                            NaN                     NaN   \n",
       "freq                           NaN                     NaN   \n",
       "mean                      0.505353                0.141110   \n",
       "std                       0.499979                0.348141   \n",
       "min                       0.000000                0.000000   \n",
       "25%                       0.000000                0.000000   \n",
       "50%                       1.000000                0.000000   \n",
       "75%                       1.000000                0.000000   \n",
       "max                       1.000000                1.000000   \n",
       "\n",
       "        parking_valet parking  smoking_no smoking  smoking_smoking  \\\n",
       "count            32223.000000        32223.000000     32223.000000   \n",
       "unique                    NaN                 NaN              NaN   \n",
       "top                       NaN                 NaN              NaN   \n",
       "freq                      NaN                 NaN              NaN   \n",
       "mean                 0.000186            0.608913         0.391087   \n",
       "std                  0.013645            0.488001         0.488001   \n",
       "min                  0.000000            0.000000         0.000000   \n",
       "25%                  0.000000            0.000000         0.000000   \n",
       "50%                  0.000000            1.000000         0.000000   \n",
       "75%                  0.000000            1.000000         1.000000   \n",
       "max                  1.000000            1.000000         1.000000   \n",
       "\n",
       "        wheelchair_no wheelchair access  housingtype_apartment  \\\n",
       "count                             32223           32223.000000   \n",
       "unique                              NaN                    NaN   \n",
       "top                                 NaN                    NaN   \n",
       "freq                                NaN                    NaN   \n",
       "mean                                  1               0.784688   \n",
       "std                                   0               0.411045   \n",
       "min                                   1               0.000000   \n",
       "25%                                   1               1.000000   \n",
       "50%                                   1               1.000000   \n",
       "75%                                   1               1.000000   \n",
       "max                                   1               1.000000   \n",
       "\n",
       "        housingtype_condo  housingtype_cottage/cabin  housingtype_duplex  \\\n",
       "count        32223.000000               32223.000000        32223.000000   \n",
       "unique                NaN                        NaN                 NaN   \n",
       "top                   NaN                        NaN                 NaN   \n",
       "freq                  NaN                        NaN                 NaN   \n",
       "mean             0.037427                   0.001428            0.022717   \n",
       "std              0.189808                   0.037757            0.149001   \n",
       "min              0.000000                   0.000000            0.000000   \n",
       "25%              0.000000                   0.000000            0.000000   \n",
       "50%              0.000000                   0.000000            0.000000   \n",
       "75%              0.000000                   0.000000            0.000000   \n",
       "max              1.000000                   1.000000            1.000000   \n",
       "\n",
       "        housingtype_flat  housingtype_house  housingtype_in-law  \\\n",
       "count       32223.000000       32223.000000        32223.000000   \n",
       "unique               NaN                NaN                 NaN   \n",
       "top                  NaN                NaN                 NaN   \n",
       "freq                 NaN                NaN                 NaN   \n",
       "mean            0.010086           0.097880            0.001583   \n",
       "std             0.099923           0.297157            0.039753   \n",
       "min             0.000000           0.000000            0.000000   \n",
       "25%             0.000000           0.000000            0.000000   \n",
       "50%             0.000000           0.000000            0.000000   \n",
       "75%             0.000000           0.000000            0.000000   \n",
       "max             1.000000           1.000000            1.000000   \n",
       "\n",
       "        housingtype_land  housingtype_loft  housingtype_manufactured  \\\n",
       "count       32223.000000      32223.000000              32223.000000   \n",
       "unique               NaN               NaN                       NaN   \n",
       "top                  NaN               NaN                       NaN   \n",
       "freq                 NaN               NaN                       NaN   \n",
       "mean            0.000279          0.004127                  0.000497   \n",
       "std             0.016710          0.064114                  0.022278   \n",
       "min             0.000000          0.000000                  0.000000   \n",
       "25%             0.000000          0.000000                  0.000000   \n",
       "50%             0.000000          0.000000                  0.000000   \n",
       "75%             0.000000          0.000000                  0.000000   \n",
       "max             1.000000          1.000000                  1.000000   \n",
       "\n",
       "        housingtype_townhouse  \n",
       "count            32223.000000  \n",
       "unique                    NaN  \n",
       "top                       NaN  \n",
       "freq                      NaN  \n",
       "mean                 0.039289  \n",
       "std                  0.194284  \n",
       "min                  0.000000  \n",
       "25%                  0.000000  \n",
       "50%                  0.000000  \n",
       "75%                  0.000000  \n",
       "max                  1.000000  "
      ]
     },
     "execution_count": 71,
     "metadata": {},
     "output_type": "execute_result"
    }
   ],
   "source": [
    "dframe.describe(include='all')"
   ]
  },
  {
   "cell_type": "code",
   "execution_count": 70,
   "metadata": {
    "collapsed": false
   },
   "outputs": [
    {
     "name": "stdout",
     "output_type": "stream",
     "text": [
      "0.754005915225\n"
     ]
    }
   ],
   "source": [
    "from sklearn.cross_validation import train_test_split\n",
    "# X_train, X_test, y_train, y_test = train_test_split(\n",
    "#         dframe.drop('price', axis = 1), dframe.price, test_size=0.33)\n",
    "# print X_train.shape\n",
    "# print y_train.shape\n",
    "\n",
    "from sklearn.ensemble import RandomForestRegressor\n",
    "reg = RandomForestRegressor()\n",
    "reg.fit(X_train, y_train)\n",
    "print reg.score(X_test, y_test)"
   ]
  },
  {
   "cell_type": "code",
   "execution_count": 69,
   "metadata": {
    "collapsed": false,
    "scrolled": true
   },
   "outputs": [
    {
     "ename": "ValueError",
     "evalue": "Can't handle mix of continuous and unknown",
     "output_type": "error",
     "traceback": [
      "\u001b[0;31m---------------------------------------------------------------------------\u001b[0m",
      "\u001b[0;31mValueError\u001b[0m                                Traceback (most recent call last)",
      "\u001b[0;32m<ipython-input-69-94020e93119e>\u001b[0m in \u001b[0;36m<module>\u001b[0;34m()\u001b[0m\n\u001b[1;32m     12\u001b[0m \u001b[0;34m\u001b[0m\u001b[0m\n\u001b[1;32m     13\u001b[0m \u001b[0;34m\u001b[0m\u001b[0m\n\u001b[0;32m---> 14\u001b[0;31m     \u001b[0mscore\u001b[0m \u001b[0;34m=\u001b[0m \u001b[0macc\u001b[0m\u001b[0;34m(\u001b[0m\u001b[0mpred\u001b[0m\u001b[0;34m,\u001b[0m \u001b[0mnp\u001b[0m\u001b[0;34m.\u001b[0m\u001b[0marray\u001b[0m\u001b[0;34m(\u001b[0m\u001b[0my_test\u001b[0m\u001b[0;34m)\u001b[0m\u001b[0;34m)\u001b[0m\u001b[0;34m\u001b[0m\u001b[0m\n\u001b[0m\u001b[1;32m     15\u001b[0m     \u001b[0mscores\u001b[0m\u001b[0;34m.\u001b[0m\u001b[0mappend\u001b[0m\u001b[0;34m(\u001b[0m\u001b[0mscore\u001b[0m\u001b[0;34m)\u001b[0m\u001b[0;34m\u001b[0m\u001b[0m\n",
      "\u001b[0;32m/Users/mac28/anaconda/lib/python2.7/site-packages/sklearn/metrics/classification.pyc\u001b[0m in \u001b[0;36maccuracy_score\u001b[0;34m(y_true, y_pred, normalize, sample_weight)\u001b[0m\n\u001b[1;32m    177\u001b[0m \u001b[0;34m\u001b[0m\u001b[0m\n\u001b[1;32m    178\u001b[0m     \u001b[0;31m# Compute accuracy for each possible representation\u001b[0m\u001b[0;34m\u001b[0m\u001b[0;34m\u001b[0m\u001b[0m\n\u001b[0;32m--> 179\u001b[0;31m     \u001b[0my_type\u001b[0m\u001b[0;34m,\u001b[0m \u001b[0my_true\u001b[0m\u001b[0;34m,\u001b[0m \u001b[0my_pred\u001b[0m \u001b[0;34m=\u001b[0m \u001b[0m_check_targets\u001b[0m\u001b[0;34m(\u001b[0m\u001b[0my_true\u001b[0m\u001b[0;34m,\u001b[0m \u001b[0my_pred\u001b[0m\u001b[0;34m)\u001b[0m\u001b[0;34m\u001b[0m\u001b[0m\n\u001b[0m\u001b[1;32m    180\u001b[0m     \u001b[0;32mif\u001b[0m \u001b[0my_type\u001b[0m\u001b[0;34m.\u001b[0m\u001b[0mstartswith\u001b[0m\u001b[0;34m(\u001b[0m\u001b[0;34m'multilabel'\u001b[0m\u001b[0;34m)\u001b[0m\u001b[0;34m:\u001b[0m\u001b[0;34m\u001b[0m\u001b[0m\n\u001b[1;32m    181\u001b[0m         \u001b[0mdiffering_labels\u001b[0m \u001b[0;34m=\u001b[0m \u001b[0mcount_nonzero\u001b[0m\u001b[0;34m(\u001b[0m\u001b[0my_true\u001b[0m \u001b[0;34m-\u001b[0m \u001b[0my_pred\u001b[0m\u001b[0;34m,\u001b[0m \u001b[0maxis\u001b[0m\u001b[0;34m=\u001b[0m\u001b[0;36m1\u001b[0m\u001b[0;34m)\u001b[0m\u001b[0;34m\u001b[0m\u001b[0m\n",
      "\u001b[0;32m/Users/mac28/anaconda/lib/python2.7/site-packages/sklearn/metrics/classification.pyc\u001b[0m in \u001b[0;36m_check_targets\u001b[0;34m(y_true, y_pred)\u001b[0m\n\u001b[1;32m     82\u001b[0m     \u001b[0;32mif\u001b[0m \u001b[0mlen\u001b[0m\u001b[0;34m(\u001b[0m\u001b[0my_type\u001b[0m\u001b[0;34m)\u001b[0m \u001b[0;34m>\u001b[0m \u001b[0;36m1\u001b[0m\u001b[0;34m:\u001b[0m\u001b[0;34m\u001b[0m\u001b[0m\n\u001b[1;32m     83\u001b[0m         raise ValueError(\"Can't handle mix of {0} and {1}\"\n\u001b[0;32m---> 84\u001b[0;31m                          \"\".format(type_true, type_pred))\n\u001b[0m\u001b[1;32m     85\u001b[0m \u001b[0;34m\u001b[0m\u001b[0m\n\u001b[1;32m     86\u001b[0m     \u001b[0;31m# We can't have more than one value on y_type => The set is no more needed\u001b[0m\u001b[0;34m\u001b[0m\u001b[0;34m\u001b[0m\u001b[0m\n",
      "\u001b[0;31mValueError\u001b[0m: Can't handle mix of continuous and unknown"
     ]
    }
   ],
   "source": [
    "scores = []\n",
    "for thous in range(1000,len(dframe),1000):\n",
    "    temp_dframe = dframe[:thous]\n",
    "    X_train, X_test, y_train, y_test = train_test_split(\n",
    "        temp_dframe.drop('price', axis = 1), temp_dframe.price, test_size=0.33)\n",
    "\n",
    "    reg = RandomForestRegressor()\n",
    "    reg.fit(X_train,y_train)\n",
    "    pred = reg.predict(X_test)\n",
    "#     pred = [float(x) for x in pred]\n",
    "#     y_test = [float(x) for x in y_test]\n",
    "\n",
    "\n",
    "    score = acc(pred, np.array(y_test))\n",
    "    scores.append(score)"
   ]
  },
  {
   "cell_type": "code",
   "execution_count": 43,
   "metadata": {
    "collapsed": false
   },
   "outputs": [
    {
     "data": {
      "text/plain": [
       "[0.73038945182127368,\n",
       " 0.76783412576815901,\n",
       " 0.72333012996097401,\n",
       " 0.63272085317437254,\n",
       " 0.71341161605529479,\n",
       " 0.67656391098594792,\n",
       " 0.80613678534851196,\n",
       " 0.82341574908025217,\n",
       " 0.82427209375950294,\n",
       " 0.81218132714823654,\n",
       " 0.82160609258065909,\n",
       " 0.7331384325788064,\n",
       " 0.80666799343482587,\n",
       " 0.66936839485506483,\n",
       " 0.70857552047088457,\n",
       " 0.62080223594763995,\n",
       " 0.78484023199495745,\n",
       " -6.3530665769874979,\n",
       " 0.65042422484048446,\n",
       " -15.781387798716221,\n",
       " -22484.253861126595,\n",
       " -0.00057525776928479821,\n",
       " -0.036980996491301932,\n",
       " -13793.067898631314,\n",
       " -0.029488864192833031,\n",
       " -0.10251644550537442,\n",
       " -0.075238720156028505,\n",
       " -0.065372801021961857,\n",
       " -0.71309465414734552,\n",
       " -0.060054368247673739,\n",
       " -0.071102196392859085,\n",
       " -0.78642652087412457]"
      ]
     },
     "execution_count": 43,
     "metadata": {},
     "output_type": "execute_result"
    }
   ],
   "source": [
    "scores"
   ]
  },
  {
   "cell_type": "code",
   "execution_count": 40,
   "metadata": {
    "collapsed": false
   },
   "outputs": [
    {
     "data": {
      "text/plain": [
       "[<matplotlib.lines.Line2D at 0x11bf4fb50>]"
      ]
     },
     "execution_count": 40,
     "metadata": {},
     "output_type": "execute_result"
    },
    {
     "data": {
      "image/png": "[encoded data removed]",
      "text/plain": [
       "<matplotlib.figure.Figure at 0x119350190>"
      ]
     },
     "metadata": {},
     "output_type": "display_data"
    }
   ],
   "source": [
    "import matplotlib.pyplot as plt\n",
    "import seaborn as sns\n",
    "%matplotlib inline\n",
    "\n",
    "plt.plot(range(1000,len(dframe),1000),scores)"
   ]
  },
  {
   "cell_type": "code",
   "execution_count": null,
   "metadata": {
    "collapsed": true
   },
   "outputs": [],
   "source": [
    "def listing_cleaner(entry):\n",
    "    print entry\n",
    "    "
   ]
  },
  {
   "cell_type": "code",
   "execution_count": null,
   "metadata": {
    "collapsed": false
   },
   "outputs": [],
   "source": [
    "df = pd.DataFrame({'A': ['a', 'b', 'a'], 'B': ['b', 'a', 'c'],\n",
    "                    'C': [1, 2, 3]})\n",
    "df"
   ]
  },
  {
   "cell_type": "code",
   "execution_count": null,
   "metadata": {
    "collapsed": false
   },
   "outputs": [],
   "source": [
    "pd.get_dummies(df, columns=['A','C'])"
   ]
  },
  {
   "cell_type": "code",
   "execution_count": null,
   "metadata": {
    "collapsed": false
   },
   "outputs": [],
   "source": [
    "listing_cleaner(my_dict['5465197037'])"
   ]
  },
  {
   "cell_type": "code",
   "execution_count": null,
   "metadata": {
    "collapsed": false
   },
   "outputs": [],
   "source": [
    "type(dframe['bath']['5399866740'])"
   ]
  },
  {
   "cell_type": "markdown",
   "metadata": {},
   "source": [
    "## Clean up the data a bit\n",
    "Right now the 'shared' and 'split' are included in number of bathrooms. If I were to convert that to a number I would consider a shared/split bathroom to be half or 0.5 of a bathroom."
   ]
  },
  {
   "cell_type": "code",
   "execution_count": null,
   "metadata": {
    "collapsed": false
   },
   "outputs": [],
   "source": [
    "dframe.bath = dframe.bath.replace('shared',0.5)\n",
    "dframe.bath = dframe.bath.replace('split',0.5)\n",
    "dframe.smoking = dframe.smoking.replace(np.nan, 'smoking')\n",
    "dframe.furnished = dframe.furnished.replace(np.nan,'not furnished')\n",
    "dframe.wheelchair = dframe.wheelchair.replace(np.nan, 'not wheelchair accessible')"
   ]
  },
  {
   "cell_type": "code",
   "execution_count": null,
   "metadata": {
    "collapsed": false
   },
   "outputs": [],
   "source": [
    "dframe.describe()"
   ]
  },
  {
   "cell_type": "code",
   "execution_count": null,
   "metadata": {
    "collapsed": false
   },
   "outputs": [],
   "source": [
    "dframe.bed.unique()"
   ]
  },
  {
   "cell_type": "code",
   "execution_count": null,
   "metadata": {
    "collapsed": true
   },
   "outputs": [],
   "source": [
    "from sklearn.preprocessing import Imputer, LabelEncoder"
   ]
  },
  {
   "cell_type": "code",
   "execution_count": null,
   "metadata": {
    "collapsed": false
   },
   "outputs": [],
   "source": [
    "def meanimputer(column):\n",
    "    imp = Imputer(missing_values='NaN', strategy='mean', axis=1)\n",
    "    imp.fit(column)\n",
    "    X = imp.transform(column)\n",
    "    return X[0]"
   ]
  },
  {
   "cell_type": "code",
   "execution_count": null,
   "metadata": {
    "collapsed": false
   },
   "outputs": [],
   "source": [
    "arr = np.array([np.nan, 'house', 'boat', 'houseboat', 'house', np.nan, 'house','houseboat'])\n",
    "prac_df = DataFrame()\n",
    "prac_df['arr'] = arr\n",
    "prac_df['arr']\n",
    "modeimputer(prac_df['arr'])"
   ]
  },
  {
   "cell_type": "code",
   "execution_count": null,
   "metadata": {
    "collapsed": false
   },
   "outputs": [],
   "source": [
    "\n",
    "def modeimputer(column):\n",
    "\n",
    "    le = LabelEncoder()\n",
    "    column = le.fit_transform(column)\n",
    "    print le.classes_\n",
    "    print type(le.classes_[0])\n",
    "    print column\n",
    "    nan = le.transform([np.nan])[0]\n",
    "    print nan\n",
    "    print type(column)\n",
    "    column = list(column)\n",
    "    for _,i in enumerate(column):\n",
    "        if i == nan:\n",
    "            column[_] = np.nan\n",
    "    \n",
    "    imp = Imputer(missing_values='NaN', strategy='most_frequent', axis=1)\n",
    "    imp.fit(column)\n",
    "\n",
    "    X = imp.transform(column)\n",
    "    \n",
    "    for _,i in enumerate(X[0]):\n",
    "        if np.isnan(i):\n",
    "            X[_] = 0\n",
    "    X = X.astype(int)\n",
    "\n",
    "\n",
    "    Y = le.inverse_transform(X)\n",
    "\n",
    "    return Y"
   ]
  },
  {
   "cell_type": "code",
   "execution_count": null,
   "metadata": {
    "collapsed": false
   },
   "outputs": [],
   "source": [
    "import pandas as pd\n",
    "import numpy as np\n",
    "\n",
    "from sklearn.base import TransformerMixin\n",
    "class ModeImputer(TransformerMixin):\n",
    "\n",
    "    def __init__(self):\n",
    "        \"\"\"Impute missing values.\n",
    "\n",
    "        Columns of dtype object are imputed with the most frequent value \n",
    "        in column.\n",
    "\n",
    "        Columns of other types are imputed with mean of column.\n",
    "        \n",
    "        Credit:http://stackoverflow.com/questions/25239958/\n",
    "        impute-categorical-missing-values-in-scikit-learn\n",
    "\n",
    "        \"\"\"\n",
    "    def fit(self, X, y=None):\n",
    "\n",
    "        self.fill = pd.Series([X[c].value_counts().index[0]\n",
    "            if X[c].dtype == np.dtype('O') else X[c].mean() for c in X],\n",
    "            index=X.columns)\n",
    "\n",
    "        return self\n",
    "\n",
    "    def transform(self, X, y=None):\n",
    "        return X.fillna(self.fill)"
   ]
  },
  {
   "cell_type": "code",
   "execution_count": null,
   "metadata": {
    "collapsed": false
   },
   "outputs": [],
   "source": [
    "data = [\n",
    "    ['a', 1, 2],\n",
    "    ['b', 1, 1],\n",
    "    ['b', 2, 2],\n",
    "    [np.nan, np.nan, np.nan]\n",
    "]\n",
    "\n",
    "X = pd.DataFrame(data)\n",
    "xt = ModeImputer().fit_transform(X)\n",
    "\n",
    "print('before...')\n",
    "print(X)\n",
    "print('after...')\n",
    "print(xt)"
   ]
  },
  {
   "cell_type": "code",
   "execution_count": null,
   "metadata": {
    "collapsed": false
   },
   "outputs": [],
   "source": [
    "dframe = ModeImputer().fit_transform(dframe)"
   ]
  },
  {
   "cell_type": "code",
   "execution_count": null,
   "metadata": {
    "collapsed": false
   },
   "outputs": [],
   "source": [
    "dframe.head()"
   ]
  },
  {
   "cell_type": "code",
   "execution_count": null,
   "metadata": {
    "collapsed": false
   },
   "outputs": [],
   "source": [
    "dframe.describe(include = 'all')"
   ]
  },
  {
   "cell_type": "code",
   "execution_count": null,
   "metadata": {
    "collapsed": false
   },
   "outputs": [],
   "source": [
    "dframe.bed.mean()"
   ]
  },
  {
   "cell_type": "code",
   "execution_count": null,
   "metadata": {
    "collapsed": false
   },
   "outputs": [],
   "source": [
    "dframe.parking.unique()"
   ]
  },
  {
   "cell_type": "code",
   "execution_count": null,
   "metadata": {
    "collapsed": false
   },
   "outputs": [],
   "source": [
    "u_dframe = DataFrame()\n",
    "dframe['bath'] = meanimputer(dframe['bath'])\n",
    "dframe['bed'] = meanimputer(dframe['bed'])\n",
    "dframe['feet'] = meanimputer(dframe['feet'])\n",
    "dframe['lat'] = meanimputer(dframe['lat'])\n",
    "dframe['long'] = meanimputer(dframe['long'])\n",
    "\n",
    "\n",
    "\n",
    "\n",
    "\n",
    "\n"
   ]
  },
  {
   "cell_type": "code",
   "execution_count": null,
   "metadata": {
    "collapsed": false
   },
   "outputs": [],
   "source": [
    "dframe.head()"
   ]
  },
  {
   "cell_type": "code",
   "execution_count": null,
   "metadata": {
    "collapsed": false
   },
   "outputs": [],
   "source": [
    "dframe.describe(include='all')"
   ]
  },
  {
   "cell_type": "code",
   "execution_count": null,
   "metadata": {
    "collapsed": false
   },
   "outputs": [],
   "source": [
    "data = dframe[dframe.lat > 45.4][dframe.lat < 45.6][dframe.long < -122.0][dframe.long > -123.5]\n",
    "plt.figure(figsize=(15,10))\n",
    "plt.scatter(data = data, x = 'long',y='lat')\n"
   ]
  },
  {
   "cell_type": "markdown",
   "metadata": {},
   "source": [
    "### It looks like Portland!!!\n",
    "Let's cluster the data. Start by creating a list of [['lat','long'], ...]"
   ]
  },
  {
   "cell_type": "code",
   "execution_count": null,
   "metadata": {
    "collapsed": false
   },
   "outputs": [],
   "source": [
    "XYdf = dframe[dframe.lat > 45.4][dframe.lat < 45.6][dframe.long < -122.0][dframe.long > -123.5]\n",
    "data = [[XYdf['lat'][i],XYdf['long'][i]] for i in XYdf.index]\n",
    "\n"
   ]
  },
  {
   "cell_type": "markdown",
   "metadata": {},
   "source": [
    "We'll use K Means Clustering because that's the clustering method I recently learned in class! There may be others that work better, but this is the tool that I know"
   ]
  },
  {
   "cell_type": "code",
   "execution_count": null,
   "metadata": {
    "collapsed": false
   },
   "outputs": [],
   "source": [
    "from sklearn.cluster import KMeans\n",
    "km = KMeans(n_clusters=40)\n",
    "km.fit(data)\n",
    "neighborhoods = km.cluster_centers_\n"
   ]
  },
  {
   "cell_type": "code",
   "execution_count": null,
   "metadata": {
    "collapsed": false
   },
   "outputs": [],
   "source": [
    "%pylab inline\n",
    "figure(1,figsize=(20,12))\n",
    "plot([row[1] for row in data],[row[0] for row in data],'b.')\n",
    "for i in km.cluster_centers_:  \n",
    "    plot(i[1],i[0], 'g*',ms=25)\n",
    "'''Note to Riley: come back and make it look pretty'''"
   ]
  },
  {
   "cell_type": "markdown",
   "metadata": {},
   "source": [
    "### We chose our neighborhoods!\n",
    "I've found that every once in a while the centers end up in different points, but are fairly consistant. Now let's process our data points and figure out where the closest neighborhood center is to it!"
   ]
  },
  {
   "cell_type": "code",
   "execution_count": null,
   "metadata": {
    "collapsed": false
   },
   "outputs": [],
   "source": [
    "neighborhoods = neighborhoods.tolist()\n",
    "for i in enumerate(neighborhoods):\n",
    "    i[1].append(i[0])\n",
    "print neighborhoods"
   ]
  },
  {
   "cell_type": "markdown",
   "metadata": {},
   "source": [
    "Create a function that will label each point with a number coresponding to it's neighborhood"
   ]
  },
  {
   "cell_type": "code",
   "execution_count": null,
   "metadata": {
    "collapsed": false
   },
   "outputs": [],
   "source": [
    "def clusterer(X, Y,neighborhoods):\n",
    "    neighbors = []\n",
    "    for i in neighborhoods:\n",
    "        distance = ((i[0]-X)**2 + (i[1]-Y)**2)\n",
    "        neighbors.append(distance)\n",
    "    closest = min(neighbors)\n",
    "    return neighbors.index(closest)"
   ]
  },
  {
   "cell_type": "code",
   "execution_count": null,
   "metadata": {
    "collapsed": false
   },
   "outputs": [],
   "source": [
    "neighborhoodlist = []\n",
    "for i in dframe.index:\n",
    "    neighborhoodlist.append(clusterer(dframe['lat'][i],dframe['long'][i],neighborhoods))\n",
    "dframe['neighborhood'] = neighborhoodlist\n"
   ]
  },
  {
   "cell_type": "code",
   "execution_count": null,
   "metadata": {
    "collapsed": false
   },
   "outputs": [],
   "source": [
    "dframe"
   ]
  },
  {
   "cell_type": "markdown",
   "metadata": {},
   "source": [
    "### Here's the new Part. We're breaking out the neighborhood values into their own columns. Now the algorithms can read them as categorical data rather than continuous data."
   ]
  },
  {
   "cell_type": "code",
   "execution_count": null,
   "metadata": {
    "collapsed": true
   },
   "outputs": [],
   "source": []
  },
  {
   "cell_type": "code",
   "execution_count": null,
   "metadata": {
    "collapsed": false
   },
   "outputs": [],
   "source": [
    "from sklearn import preprocessing\n",
    "def CategoricalToBinary(dframe,column_name):\n",
    "    le = preprocessing.LabelEncoder()\n",
    "    listy = le.fit_transform(dframe[column_name])\n",
    "    dframe[column_name] = listy\n",
    "    unique = dframe[column_name].unique()\n",
    "    serieslist = [list() for _ in xrange(len(unique))]\n",
    "    \n",
    "    \n",
    "    for column, _ in enumerate(serieslist):\n",
    "        for i, item in enumerate(dframe[column_name]):\n",
    "            if item == column:\n",
    "                serieslist[column].append(1)\n",
    "            else:\n",
    "                serieslist[column].append(0)\n",
    "        dframe[column_name+str(column)] = serieslist[column]\n",
    "\n",
    "   \n",
    "    return dframe\n",
    "\n",
    "\n",
    "\n"
   ]
  },
  {
   "cell_type": "code",
   "execution_count": null,
   "metadata": {
    "collapsed": false
   },
   "outputs": [],
   "source": [
    "pd.set_option('max_columns', 100)\n",
    "dframe = CategoricalToBinary(dframe,'housingtype')\n",
    "dframe = CategoricalToBinary(dframe,'parking')\n",
    "dframe = CategoricalToBinary(dframe,'laundry')\n",
    "dframe = CategoricalToBinary(dframe,'smoking')\n",
    "dframe = CategoricalToBinary(dframe,'wheelchair')\n",
    "dframe = CategoricalToBinary(dframe,'neighborhood')\n",
    "dframe\n"
   ]
  },
  {
   "cell_type": "code",
   "execution_count": null,
   "metadata": {
    "collapsed": false
   },
   "outputs": [],
   "source": [
    "dframe = dframe.drop('date',1)\n",
    "dframe = dframe.drop('housingtype',1)\n",
    "dframe = dframe.drop('parking',1)\n",
    "dframe = dframe.drop('laundry',1)\n",
    "dframe = dframe.drop('smoking',1)\n",
    "dframe = dframe.drop('wheelchair',1)\n",
    "dframe = dframe.drop('neighborhood',1)\n",
    "dframe = dframe.drop('time',1)\n",
    "\n",
    "\n"
   ]
  },
  {
   "cell_type": "code",
   "execution_count": null,
   "metadata": {
    "collapsed": false
   },
   "outputs": [],
   "source": [
    "columns=list(dframe.columns)\n"
   ]
  },
  {
   "cell_type": "code",
   "execution_count": null,
   "metadata": {
    "collapsed": false
   },
   "outputs": [],
   "source": [
    "from __future__ import division\n",
    "print len(dframe)\n",
    "df2 = dframe[dframe.price < 10000][columns].dropna()\n",
    "print len(df2)\n",
    "print len(df2)/len(dframe)\n",
    "\n",
    "price = df2[['price']].values\n",
    "columns.pop(columns.index('price'))\n",
    "features = df2[columns].values\n",
    "\n",
    "from sklearn.cross_validation import train_test_split\n",
    "features_train, features_test, price_train, price_test = train_test_split(features, price, test_size=0.1, random_state=42)"
   ]
  },
  {
   "cell_type": "markdown",
   "metadata": {},
   "source": [
    "Ok, lets put it through Decision Tree!"
   ]
  },
  {
   "cell_type": "markdown",
   "metadata": {},
   "source": [
    "## What about Random Forest?"
   ]
  },
  {
   "cell_type": "code",
   "execution_count": null,
   "metadata": {
    "collapsed": false
   },
   "outputs": [],
   "source": [
    "from sklearn.ensemble import RandomForestRegressor\n",
    "from sklearn.metrics import r2_score\n",
    "reg = RandomForestRegressor()\n",
    "reg = reg.fit(features_train, price_train)\n"
   ]
  },
  {
   "cell_type": "code",
   "execution_count": null,
   "metadata": {
    "collapsed": false
   },
   "outputs": [],
   "source": [
    "forest_pred = reg.predict(features_test)\n",
    "forest_pred = np.array([[item] for item in forest_pred])"
   ]
  },
  {
   "cell_type": "code",
   "execution_count": null,
   "metadata": {
    "collapsed": false
   },
   "outputs": [],
   "source": [
    "print r2_score(forest_pred, price_test)\n",
    "plt.scatter(forest_pred,price_test)\n"
   ]
  },
  {
   "cell_type": "code",
   "execution_count": null,
   "metadata": {
    "collapsed": false
   },
   "outputs": [],
   "source": [
    "df2['predictions'] = reg.predict(df2[columns])"
   ]
  },
  {
   "cell_type": "code",
   "execution_count": null,
   "metadata": {
    "collapsed": false
   },
   "outputs": [],
   "source": [
    "df2['predictions_diff'] = df2['predictions']-df2['price']"
   ]
  },
  {
   "cell_type": "code",
   "execution_count": null,
   "metadata": {
    "collapsed": false
   },
   "outputs": [],
   "source": [
    "sd = np.std(df2['predictions_diff'])\n",
    "sns.kdeplot(df2['predictions_diff'][df2['predictions_diff']>-150][df2['predictions_diff']<150])\n",
    "sns.plt.xlim(-150,150)"
   ]
  },
  {
   "cell_type": "code",
   "execution_count": null,
   "metadata": {
    "collapsed": false
   },
   "outputs": [],
   "source": [
    "data = df2[dframe.lat > 45.45][df2.lat < 45.6][df2.long < -122.4][df2.long > -122.8][df2['predictions_diff']>-150][df2['predictions_diff']<150]\n",
    "plt.figure(figsize=(15,10))\n",
    "plt.scatter(data = data, x = 'long',y='lat', c = 'predictions_diff',s=10,cmap='coolwarm')"
   ]
  },
  {
   "cell_type": "code",
   "execution_count": null,
   "metadata": {
    "collapsed": false,
    "scrolled": true
   },
   "outputs": [],
   "source": [
    "dframe"
   ]
  },
  {
   "cell_type": "code",
   "execution_count": null,
   "metadata": {
    "collapsed": false
   },
   "outputs": [],
   "source": [
    "print np.mean([1,2,34,np.nan])"
   ]
  },
  {
   "cell_type": "code",
   "execution_count": null,
   "metadata": {
    "collapsed": false
   },
   "outputs": [],
   "source": [
    "def averager(dframe):\n",
    "    dframe = dframe.T\n",
    "    dframe.dropna()\n",
    "    averages = {}\n",
    "    for listing in dframe:\n",
    "        try:\n",
    "            key = str(dframe[listing]['bed'])+','+str(dframe[listing]['bath'])+','+str(dframe[listing]['neighborhood'])+','+str(dframe[listing]['feet']-dframe[listing]['feet']%50)\n",
    "            if key not in averages:\n",
    "                averages[key] = {'average_list':[dframe[listing]['price']], 'average':0}\n",
    "            elif key in averages:\n",
    "                averages[key]['average_list'].append(dframe[listing]['price'])\n",
    "        except TypeError:\n",
    "            continue\n",
    "    for entry in averages:\n",
    "        averages[entry]['average'] = np.mean(averages[entry]['average_list'])\n",
    "    return averages\n",
    "            \n",
    "        \n",
    "            \n",
    "            \n",
    "        "
   ]
  },
  {
   "cell_type": "code",
   "execution_count": null,
   "metadata": {
    "collapsed": false
   },
   "outputs": [],
   "source": [
    "averages = averager(dframe)\n",
    "print averages"
   ]
  },
  {
   "cell_type": "code",
   "execution_count": null,
   "metadata": {
    "collapsed": false
   },
   "outputs": [],
   "source": [
    "dframe['averages']= averages[str(dframe['bed'])+','+str(dframe['bath'])+','+str(dframe['neighborhood'])+','+str(dframe['feet']-dframe['feet']%50)]"
   ]
  },
  {
   "cell_type": "code",
   "execution_count": null,
   "metadata": {
    "collapsed": false
   },
   "outputs": [],
   "source": [
    "dframe.T\n"
   ]
  },
  {
   "cell_type": "raw",
   "metadata": {},
   "source": []
  },
  {
   "cell_type": "markdown",
   "metadata": {},
   "source": [
    "Wow! up to .87! That's our best yet! What if we add more trees???"
   ]
  },
  {
   "cell_type": "code",
   "execution_count": null,
   "metadata": {
    "collapsed": false
   },
   "outputs": [],
   "source": [
    "reg = RandomForestRegressor(n_estimators = 100)\n",
    "reg = reg.fit(features_train, price_train)"
   ]
  },
  {
   "cell_type": "code",
   "execution_count": null,
   "metadata": {
    "collapsed": true
   },
   "outputs": [],
   "source": [
    "forest_pred = reg.predict(features_test)\n",
    "forest_pred = np.array([[item] for item in forest_pred])"
   ]
  },
  {
   "cell_type": "code",
   "execution_count": null,
   "metadata": {
    "collapsed": false
   },
   "outputs": [],
   "source": [
    "print r2_score(forest_pred, price_test)\n",
    "print plt.scatter(pred,price_test)"
   ]
  },
  {
   "cell_type": "code",
   "execution_count": null,
   "metadata": {
    "collapsed": true
   },
   "outputs": [],
   "source": []
  },
  {
   "cell_type": "code",
   "execution_count": null,
   "metadata": {
    "collapsed": false
   },
   "outputs": [],
   "source": [
    "from sklearn.tree import DecisionTreeRegressor\n",
    "reg = DecisionTreeRegressor(max_depth = 5)\n",
    "reg.fit(features_train, price_train)\n",
    "print len(features_train[0])\n",
    "columns = [str(x) for x in columns]\n",
    "print columns\n",
    "from sklearn.tree import export_graphviz\n",
    "export_graphviz(reg,feature_names=columns)"
   ]
  },
  {
   "cell_type": "markdown",
   "metadata": {},
   "source": [
    "Up to .88!"
   ]
  },
  {
   "cell_type": "markdown",
   "metadata": {},
   "source": [
    "So what is our goal now? I'd like to see if adjusting the number of neighborhoods increases the accuracy. same for the affect with the number of trees"
   ]
  },
  {
   "cell_type": "code",
   "execution_count": null,
   "metadata": {
    "collapsed": false
   },
   "outputs": [],
   "source": [
    "def neighborhood_optimizer(dframe,neighborhood_number_range, counter_num):\n",
    "    XYdf = dframe[dframe.lat > 45.4][dframe.lat < 45.6][dframe.long < -122.0][dframe.long > -123.5]\n",
    "    data = [[XYdf['lat'][i],XYdf['long'][i]] for i in XYdf.index]\n",
    "    r2_dict = []\n",
    "    for i in neighborhood_number_range:\n",
    "        counter = counter_num\n",
    "        average_accuracy_list = []\n",
    "        while counter > 0:\n",
    "            km = KMeans(n_clusters=i)\n",
    "            km.fit(data)\n",
    "            neighborhoods = km.cluster_centers_\n",
    "            neighborhoods = neighborhoods.tolist()\n",
    "            for x in enumerate(neighborhoods):\n",
    "                x[1].append(x[0])\n",
    "            neighborhoodlist = []\n",
    "            for z in dframe.index:\n",
    "                neighborhoodlist.append(clusterer(dframe['lat'][z],dframe['long'][z],neighborhoods))\n",
    "            dframecopy = dframe.copy()\n",
    "            dframecopy['neighborhood'] = Series((neighborhoodlist), index=dframe.index)\n",
    "            df2 = dframecopy[dframe.price < 10000][['bath','bed','feet','dog','cat','content','getphotos', 'hasmap', 'price','neighborhood']].dropna()\n",
    "            features = df2[['bath','bed','feet','dog','cat','content','getphotos', 'hasmap', 'neighborhood']].values\n",
    "            price = df2[['price']].values\n",
    "            features_train, features_test, price_train, price_test = train_test_split(features, price, test_size=0.1)\n",
    "            reg = RandomForestRegressor()\n",
    "            reg = reg.fit(features_train, price_train)\n",
    "            forest_pred = reg.predict(features_test)\n",
    "            forest_pred = np.array([[item] for item in forest_pred])\n",
    "            counter -= 1\n",
    "            average_accuracy_list.append(r2_score(forest_pred, price_test))\n",
    "        total = 0\n",
    "        for entry in average_accuracy_list:\n",
    "            total += entry\n",
    "        r2_accuracy = total/len(average_accuracy_list)\n",
    "        r2_dict.append((i,r2_accuracy))\n",
    "    print r2_dict\n",
    "    return r2_dict"
   ]
  },
  {
   "cell_type": "code",
   "execution_count": null,
   "metadata": {
    "collapsed": false
   },
   "outputs": [],
   "source": [
    "neighborhood_number_range = [i for _,i in enumerate(range(2,31,2))]\n",
    "neighborhood_number_range"
   ]
  },
  {
   "cell_type": "code",
   "execution_count": null,
   "metadata": {
    "collapsed": false,
    "scrolled": true
   },
   "outputs": [],
   "source": [
    "r2_dict = neighborhood_optimizer(dframe,neighborhood_number_range,10)"
   ]
  },
  {
   "cell_type": "code",
   "execution_count": null,
   "metadata": {
    "collapsed": false
   },
   "outputs": [],
   "source": [
    "r2_dict[:][0]"
   ]
  },
  {
   "cell_type": "code",
   "execution_count": null,
   "metadata": {
    "collapsed": false
   },
   "outputs": [],
   "source": [
    "plt.scatter([x[0] for x in r2_dict],[x[1] for x in r2_dict])"
   ]
  },
  {
   "cell_type": "markdown",
   "metadata": {},
   "source": [
    "Looks like the optimum is right around 10 or 11, and then starts to drop off. Let's get a little more granular and look at a smaller range"
   ]
  },
  {
   "cell_type": "code",
   "execution_count": null,
   "metadata": {
    "collapsed": false
   },
   "outputs": [],
   "source": [
    "neighborhood_number_range = [i for _,i in enumerate(range(7,15))]\n",
    "neighborhood_number_range"
   ]
  },
  {
   "cell_type": "code",
   "execution_count": null,
   "metadata": {
    "collapsed": false,
    "scrolled": true
   },
   "outputs": [],
   "source": [
    "r2_dict = neighborhood_optimizer(dframe,neighborhood_number_range,10)"
   ]
  },
  {
   "cell_type": "code",
   "execution_count": null,
   "metadata": {
    "collapsed": false
   },
   "outputs": [],
   "source": [
    "print r2_dict\n",
    "plt.scatter([x[0] for x in r2_dict],[x[1] for x in r2_dict])"
   ]
  },
  {
   "cell_type": "markdown",
   "metadata": {},
   "source": [
    "Trying a few times, it looks like 10, 11 and 12 get the best results at ~.85. Of course, we'll need to redo some of these optomizations after we properly process our data. Hopefully we'll see some more consistency then too."
   ]
  },
  {
   "cell_type": "code",
   "execution_count": null,
   "metadata": {
    "collapsed": false,
    "scrolled": true
   },
   "outputs": [],
   "source": [
    "r2_dict = neighborhood_optimizer(dframe,[10,11,12],25)"
   ]
  },
  {
   "cell_type": "markdown",
   "metadata": {},
   "source": [
    "Note #1 to Riley: (From Last time) Perhaps look into another regressor? see if there's one that's inherantly better at this kind of thing.\n",
    "\n",
    "Note #2 to Riley: Figure out how to process data so that you don't have to drop null values\n",
    "\n",
    "Note #3 to Riley: convert categorical data into binary\n",
    "\n",
    "Note #4 to Riley: I wonder if increasing the number of neighborhoods would become more accurate as we collect more data? like you could create a bunch of little accurate models instead of a bunch of bigger ones.\n",
    "\n",
    "Learned: If you plan on using Decision Tree/Random Forest from SKLearn, make sure you collect your discrete variables in separate columns and make them binary yes or no(0 or 1)."
   ]
  }
 ],
 "metadata": {
  "kernelspec": {
   "display_name": "Python 2",
   "language": "python",
   "name": "python2"
  },
  "language_info": {
   "codemirror_mode": {
    "name": "ipython",
    "version": 2
   },
   "file_extension": ".py",
   "mimetype": "text/x-python",
   "name": "python",
   "nbconvert_exporter": "python",
   "pygments_lexer": "ipython2",
   "version": "2.7.11"
  }
 },
 "nbformat": 4,
 "nbformat_minor": 0
}
