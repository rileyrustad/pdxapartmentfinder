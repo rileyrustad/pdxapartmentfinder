{
 "cells": [
  {
   "cell_type": "code",
   "execution_count": 2,
   "metadata": {
    "collapsed": false
   },
   "outputs": [],
   "source": [
    "import numpy as np\n",
    "import pandas as pd\n",
    "from pandas import DataFrame, Series\n",
    "import json"
   ]
  },
  {
   "cell_type": "markdown",
   "metadata": {},
   "source": [
    "## Load the data from our JSON file. \n",
    "The data is stored as a dictionary of dictionaries in the json file. We store it that way beacause it's easy to add data to the existing master data file. Also, I haven't figured out how to get it in a database yet."
   ]
  },
  {
   "cell_type": "code",
   "execution_count": 3,
   "metadata": {
    "collapsed": false,
    "scrolled": true
   },
   "outputs": [
    {
     "data": {
      "text/plain": [
       "(36303, 20)"
      ]
     },
     "execution_count": 3,
     "metadata": {},
     "output_type": "execute_result"
    }
   ],
   "source": [
    "with open('../pdxapartmentfinder/data/MasterApartmentData.json') as f:\n",
    "    my_dict = json.load(f)\n",
    "dframe = DataFrame(my_dict)\n",
    "\n",
    "dframe = dframe.T\n",
    "dframe.shape"
   ]
  },
  {
   "cell_type": "markdown",
   "metadata": {},
   "source": [
    "## Clean up the data a bit\n",
    "Right now the 'shared' and 'split' are included in number of bathrooms. If I were to convert that to a number I would consider a shared/split bathroom to be half or 0.5 of a bathroom."
   ]
  },
  {
   "cell_type": "code",
   "execution_count": 3,
   "metadata": {
    "collapsed": false
   },
   "outputs": [],
   "source": [
    "dframe.bath = dframe.bath.replace('shared',0.5)\n",
    "dframe.bath = dframe.bath.replace('split',0.5)\n",
    "dframe.smoking = dframe.smoking.replace(np.nan,0)"
   ]
  },
  {
   "cell_type": "markdown",
   "metadata": {},
   "source": [
    "## Let's get a look at what the prices look like\n",
    "To visualize it we need to get rid of null values. I haven't figured out the best way to clean this up yet. For now I'm going to drop any rows that have a null value, though I recognize that this is not a good analysis practice. We ended up dropping ~15% of data points. \n",
    "\n",
    "😬\n",
    "\n",
    "Also there were some CRAZY outliers, and this analysis is focused on finding a model for apartments for the 99% of us that can't afford crazy extravigant apartments"
   ]
  },
  {
   "cell_type": "code",
   "execution_count": 4,
   "metadata": {
    "collapsed": false
   },
   "outputs": [
    {
     "data": {
      "text/plain": [
       "<matplotlib.axes._subplots.AxesSubplot at 0x115f24290>"
      ]
     },
     "execution_count": 4,
     "metadata": {},
     "output_type": "execute_result"
    },
    {
     "data": {
      "image/png": "[encoded data removed]",
      "text/plain": [
       "<matplotlib.figure.Figure at 0x105a63c10>"
      ]
     },
     "metadata": {},
     "output_type": "display_data"
    }
   ],
   "source": [
    "df = dframe[dframe.price < 10000][['bath','bed','feet','price']].dropna()\n",
    "sns.distplot(df.price)"
   ]
  },
  {
   "cell_type": "code",
   "execution_count": 5,
   "metadata": {
    "collapsed": false
   },
   "outputs": [
    {
     "data": {
      "text/html": [
       "<div>\n",
       "<table border=\"1\" class=\"dataframe\">\n",
       "  <thead>\n",
       "    <tr style=\"text-align: right;\">\n",
       "      <th></th>\n",
       "      <th>bath</th>\n",
       "      <th>bed</th>\n",
       "      <th>cat</th>\n",
       "      <th>content</th>\n",
       "      <th>date</th>\n",
       "      <th>dog</th>\n",
       "      <th>feet</th>\n",
       "      <th>getphotos</th>\n",
       "      <th>hasmap</th>\n",
       "      <th>housingtype</th>\n",
       "      <th>lat</th>\n",
       "      <th>laundry</th>\n",
       "      <th>long</th>\n",
       "      <th>parking</th>\n",
       "      <th>price</th>\n",
       "      <th>smoking</th>\n",
       "      <th>time</th>\n",
       "      <th>wheelchair</th>\n",
       "    </tr>\n",
       "  </thead>\n",
       "  <tbody>\n",
       "    <tr>\n",
       "      <th>5399866740</th>\n",
       "      <td>1</td>\n",
       "      <td>1</td>\n",
       "      <td>0</td>\n",
       "      <td>754</td>\n",
       "      <td>2016-01-12</td>\n",
       "      <td>0</td>\n",
       "      <td>750</td>\n",
       "      <td>8</td>\n",
       "      <td>0</td>\n",
       "      <td>apartment</td>\n",
       "      <td>NaN</td>\n",
       "      <td>w/d in unit</td>\n",
       "      <td>NaN</td>\n",
       "      <td>off-street parking</td>\n",
       "      <td>1400</td>\n",
       "      <td>0</td>\n",
       "      <td>12:22:07</td>\n",
       "      <td>NaN</td>\n",
       "    </tr>\n",
       "    <tr>\n",
       "      <th>5401772970</th>\n",
       "      <td>1</td>\n",
       "      <td>1</td>\n",
       "      <td>1</td>\n",
       "      <td>2632</td>\n",
       "      <td>2016-01-13</td>\n",
       "      <td>1</td>\n",
       "      <td>659</td>\n",
       "      <td>7</td>\n",
       "      <td>1</td>\n",
       "      <td>apartment</td>\n",
       "      <td>45.531</td>\n",
       "      <td>w/d in unit</td>\n",
       "      <td>-122.664</td>\n",
       "      <td>attached garage</td>\n",
       "      <td>1350</td>\n",
       "      <td>no smoking</td>\n",
       "      <td>16:24:11</td>\n",
       "      <td>wheelchair accessible</td>\n",
       "    </tr>\n",
       "    <tr>\n",
       "      <th>5402562933</th>\n",
       "      <td>1.5</td>\n",
       "      <td>NaN</td>\n",
       "      <td>0</td>\n",
       "      <td>1001</td>\n",
       "      <td>2016-01-14</td>\n",
       "      <td>0</td>\n",
       "      <td>1</td>\n",
       "      <td>2</td>\n",
       "      <td>1</td>\n",
       "      <td>apartment</td>\n",
       "      <td>45.5333</td>\n",
       "      <td>laundry on site</td>\n",
       "      <td>-122.709</td>\n",
       "      <td>carport</td>\n",
       "      <td>1500</td>\n",
       "      <td>no smoking</td>\n",
       "      <td>09:12:40</td>\n",
       "      <td>NaN</td>\n",
       "    </tr>\n",
       "    <tr>\n",
       "      <th>5402607488</th>\n",
       "      <td>1</td>\n",
       "      <td>2</td>\n",
       "      <td>0</td>\n",
       "      <td>2259</td>\n",
       "      <td>2016-01-14</td>\n",
       "      <td>0</td>\n",
       "      <td>936</td>\n",
       "      <td>12</td>\n",
       "      <td>1</td>\n",
       "      <td>condo</td>\n",
       "      <td>45.5328</td>\n",
       "      <td>w/d in unit</td>\n",
       "      <td>-122.699</td>\n",
       "      <td>attached garage</td>\n",
       "      <td>1995</td>\n",
       "      <td>0</td>\n",
       "      <td>09:36:16</td>\n",
       "      <td>NaN</td>\n",
       "    </tr>\n",
       "    <tr>\n",
       "      <th>5402822514</th>\n",
       "      <td>1</td>\n",
       "      <td>1</td>\n",
       "      <td>0</td>\n",
       "      <td>1110</td>\n",
       "      <td>2016-01-14</td>\n",
       "      <td>0</td>\n",
       "      <td>624</td>\n",
       "      <td>16</td>\n",
       "      <td>1</td>\n",
       "      <td>apartment</td>\n",
       "      <td>45.5053</td>\n",
       "      <td>w/d in unit</td>\n",
       "      <td>-122.618</td>\n",
       "      <td>street parking</td>\n",
       "      <td>1495</td>\n",
       "      <td>0</td>\n",
       "      <td>11:31:03</td>\n",
       "      <td>NaN</td>\n",
       "    </tr>\n",
       "  </tbody>\n",
       "</table>\n",
       "</div>"
      ],
      "text/plain": [
       "           bath  bed cat content        date dog feet getphotos hasmap  \\\n",
       "5399866740    1    1   0     754  2016-01-12   0  750         8      0   \n",
       "5401772970    1    1   1    2632  2016-01-13   1  659         7      1   \n",
       "5402562933  1.5  NaN   0    1001  2016-01-14   0    1         2      1   \n",
       "5402607488    1    2   0    2259  2016-01-14   0  936        12      1   \n",
       "5402822514    1    1   0    1110  2016-01-14   0  624        16      1   \n",
       "\n",
       "           housingtype      lat          laundry     long             parking  \\\n",
       "5399866740   apartment      NaN      w/d in unit      NaN  off-street parking   \n",
       "5401772970   apartment   45.531      w/d in unit -122.664     attached garage   \n",
       "5402562933   apartment  45.5333  laundry on site -122.709             carport   \n",
       "5402607488       condo  45.5328      w/d in unit -122.699     attached garage   \n",
       "5402822514   apartment  45.5053      w/d in unit -122.618      street parking   \n",
       "\n",
       "           price     smoking      time             wheelchair  \n",
       "5399866740  1400           0  12:22:07                    NaN  \n",
       "5401772970  1350  no smoking  16:24:11  wheelchair accessible  \n",
       "5402562933  1500  no smoking  09:12:40                    NaN  \n",
       "5402607488  1995           0  09:36:16                    NaN  \n",
       "5402822514  1495           0  11:31:03                    NaN  "
      ]
     },
     "execution_count": 5,
     "metadata": {},
     "output_type": "execute_result"
    }
   ],
   "source": [
    "dframe.head()"
   ]
  },
  {
   "cell_type": "code",
   "execution_count": 6,
   "metadata": {
    "collapsed": false
   },
   "outputs": [
    {
     "data": {
      "text/html": [
       "<div>\n",
       "<table border=\"1\" class=\"dataframe\">\n",
       "  <thead>\n",
       "    <tr style=\"text-align: right;\">\n",
       "      <th></th>\n",
       "      <th>bath</th>\n",
       "      <th>bed</th>\n",
       "      <th>cat</th>\n",
       "      <th>content</th>\n",
       "      <th>date</th>\n",
       "      <th>dog</th>\n",
       "      <th>feet</th>\n",
       "      <th>getphotos</th>\n",
       "      <th>hasmap</th>\n",
       "      <th>housingtype</th>\n",
       "      <th>lat</th>\n",
       "      <th>laundry</th>\n",
       "      <th>long</th>\n",
       "      <th>parking</th>\n",
       "      <th>price</th>\n",
       "      <th>smoking</th>\n",
       "      <th>time</th>\n",
       "      <th>wheelchair</th>\n",
       "    </tr>\n",
       "  </thead>\n",
       "  <tbody>\n",
       "    <tr>\n",
       "      <th>count</th>\n",
       "      <td>27929</td>\n",
       "      <td>28712</td>\n",
       "      <td>28910</td>\n",
       "      <td>28910</td>\n",
       "      <td>28910</td>\n",
       "      <td>28910</td>\n",
       "      <td>25349</td>\n",
       "      <td>28910</td>\n",
       "      <td>28910</td>\n",
       "      <td>28894</td>\n",
       "      <td>27600.0000</td>\n",
       "      <td>27078</td>\n",
       "      <td>27600.0000</td>\n",
       "      <td>21598</td>\n",
       "      <td>28673</td>\n",
       "      <td>28910</td>\n",
       "      <td>28910</td>\n",
       "      <td>5789</td>\n",
       "    </tr>\n",
       "    <tr>\n",
       "      <th>unique</th>\n",
       "      <td>15</td>\n",
       "      <td>9</td>\n",
       "      <td>2</td>\n",
       "      <td>3660</td>\n",
       "      <td>109</td>\n",
       "      <td>2</td>\n",
       "      <td>1385</td>\n",
       "      <td>24</td>\n",
       "      <td>2</td>\n",
       "      <td>11</td>\n",
       "      <td>4741.0000</td>\n",
       "      <td>5</td>\n",
       "      <td>4845.0000</td>\n",
       "      <td>7</td>\n",
       "      <td>1908</td>\n",
       "      <td>2</td>\n",
       "      <td>20949</td>\n",
       "      <td>1</td>\n",
       "    </tr>\n",
       "    <tr>\n",
       "      <th>top</th>\n",
       "      <td>1</td>\n",
       "      <td>1</td>\n",
       "      <td>1</td>\n",
       "      <td>967</td>\n",
       "      <td>2016-04-25</td>\n",
       "      <td>1</td>\n",
       "      <td>700</td>\n",
       "      <td>8</td>\n",
       "      <td>1</td>\n",
       "      <td>apartment</td>\n",
       "      <td>45.5142</td>\n",
       "      <td>w/d in unit</td>\n",
       "      <td>-122.6854</td>\n",
       "      <td>off-street parking</td>\n",
       "      <td>995</td>\n",
       "      <td>no smoking</td>\n",
       "      <td>10:05:48</td>\n",
       "      <td>wheelchair accessible</td>\n",
       "    </tr>\n",
       "    <tr>\n",
       "      <th>freq</th>\n",
       "      <td>19375</td>\n",
       "      <td>10832</td>\n",
       "      <td>19847</td>\n",
       "      <td>218</td>\n",
       "      <td>508</td>\n",
       "      <td>18652</td>\n",
       "      <td>567</td>\n",
       "      <td>2844</td>\n",
       "      <td>27641</td>\n",
       "      <td>22741</td>\n",
       "      <td>391.0000</td>\n",
       "      <td>17651</td>\n",
       "      <td>366.0000</td>\n",
       "      <td>7248</td>\n",
       "      <td>652</td>\n",
       "      <td>17888</td>\n",
       "      <td>7</td>\n",
       "      <td>5789</td>\n",
       "    </tr>\n",
       "  </tbody>\n",
       "</table>\n",
       "</div>"
      ],
      "text/plain": [
       "         bath    bed    cat  content        date    dog   feet  getphotos  \\\n",
       "count   27929  28712  28910    28910       28910  28910  25349      28910   \n",
       "unique     15      9      2     3660         109      2   1385         24   \n",
       "top         1      1      1      967  2016-04-25      1    700          8   \n",
       "freq    19375  10832  19847      218         508  18652    567       2844   \n",
       "\n",
       "        hasmap housingtype         lat      laundry        long  \\\n",
       "count    28910       28894  27600.0000        27078  27600.0000   \n",
       "unique       2          11   4741.0000            5   4845.0000   \n",
       "top          1   apartment     45.5142  w/d in unit   -122.6854   \n",
       "freq     27641       22741    391.0000        17651    366.0000   \n",
       "\n",
       "                   parking  price     smoking      time             wheelchair  \n",
       "count                21598  28673       28910     28910                   5789  \n",
       "unique                   7   1908           2     20949                      1  \n",
       "top     off-street parking    995  no smoking  10:05:48  wheelchair accessible  \n",
       "freq                  7248    652       17888         7                   5789  "
      ]
     },
     "execution_count": 6,
     "metadata": {},
     "output_type": "execute_result"
    }
   ],
   "source": [
    "dframe.describe()"
   ]
  },
  {
   "cell_type": "code",
   "execution_count": 7,
   "metadata": {
    "collapsed": false
   },
   "outputs": [],
   "source": [
    "def meanimputer(column):\n",
    "    imp = Imputer(missing_values='NaN', strategy='mean', axis=1)\n",
    "    imp.fit(column)\n",
    "    X = imp.transform(column)\n",
    "    return X[0]"
   ]
  },
  {
   "cell_type": "code",
   "execution_count": 148,
   "metadata": {
    "collapsed": false
   },
   "outputs": [],
   "source": [
    "from sklearn import preprocessing\n",
    "def modeimputer(column):\n",
    "\n",
    "    le = preprocessing.LabelEncoder()\n",
    "    column = le.fit_transform(column)\n",
    "    print type(le.classes_[0])\n",
    "    nan = le.transform([np.nan])[0]\n",
    "    \n",
    "    column = list(column)\n",
    "    for _,i in enumerate(column):\n",
    "        if i == nan:\n",
    "            column[_] = np.nan\n",
    "    \n",
    "    imp = Imputer(missing_values='NaN', strategy='most_frequent', axis=1)\n",
    "    imp.fit(column)\n",
    "\n",
    "    X = imp.transform(column)\n",
    "    \n",
    "    for _,i in enumerate(X[0]):\n",
    "        if np.isnan(i):\n",
    "            X[_] = 0\n",
    "    X = X.astype(int)\n",
    "\n",
    "\n",
    "    Y = le.inverse_transform(X)\n",
    "\n",
    "    return Y"
   ]
  },
  {
   "cell_type": "code",
   "execution_count": 159,
   "metadata": {
    "collapsed": false
   },
   "outputs": [
    {
     "name": "stdout",
     "output_type": "stream",
     "text": [
      "<type 'str'>\n"
     ]
    },
    {
     "ename": "ValueError",
     "evalue": "y contains new labels: [ nan]",
     "output_type": "error",
     "traceback": [
      "\u001b[0;31m---------------------------------------------------------------------------\u001b[0m",
      "\u001b[0;31mValueError\u001b[0m                                Traceback (most recent call last)",
      "\u001b[0;32m<ipython-input-159-ccaf81b29b98>\u001b[0m in \u001b[0;36m<module>\u001b[0;34m()\u001b[0m\n\u001b[1;32m      3\u001b[0m \u001b[0mprac_df\u001b[0m\u001b[0;34m[\u001b[0m\u001b[0;34m'arr'\u001b[0m\u001b[0;34m]\u001b[0m \u001b[0;34m=\u001b[0m \u001b[0marr\u001b[0m\u001b[0;34m\u001b[0m\u001b[0m\n\u001b[1;32m      4\u001b[0m \u001b[0mprac_df\u001b[0m\u001b[0;34m[\u001b[0m\u001b[0;34m'arr'\u001b[0m\u001b[0;34m]\u001b[0m\u001b[0;34m\u001b[0m\u001b[0m\n\u001b[0;32m----> 5\u001b[0;31m \u001b[0mmodeimputer\u001b[0m\u001b[0;34m(\u001b[0m\u001b[0mprac_df\u001b[0m\u001b[0;34m[\u001b[0m\u001b[0;34m'arr'\u001b[0m\u001b[0;34m]\u001b[0m\u001b[0;34m)\u001b[0m\u001b[0;34m\u001b[0m\u001b[0m\n\u001b[0m",
      "\u001b[0;32m<ipython-input-148-79c7c2143c47>\u001b[0m in \u001b[0;36mmodeimputer\u001b[0;34m(column)\u001b[0m\n\u001b[1;32m      5\u001b[0m     \u001b[0mcolumn\u001b[0m \u001b[0;34m=\u001b[0m \u001b[0mle\u001b[0m\u001b[0;34m.\u001b[0m\u001b[0mfit_transform\u001b[0m\u001b[0;34m(\u001b[0m\u001b[0mcolumn\u001b[0m\u001b[0;34m)\u001b[0m\u001b[0;34m\u001b[0m\u001b[0m\n\u001b[1;32m      6\u001b[0m     \u001b[0;32mprint\u001b[0m \u001b[0mtype\u001b[0m\u001b[0;34m(\u001b[0m\u001b[0mle\u001b[0m\u001b[0;34m.\u001b[0m\u001b[0mclasses_\u001b[0m\u001b[0;34m[\u001b[0m\u001b[0;36m0\u001b[0m\u001b[0;34m]\u001b[0m\u001b[0;34m)\u001b[0m\u001b[0;34m\u001b[0m\u001b[0m\n\u001b[0;32m----> 7\u001b[0;31m     \u001b[0mnan\u001b[0m \u001b[0;34m=\u001b[0m \u001b[0mle\u001b[0m\u001b[0;34m.\u001b[0m\u001b[0mtransform\u001b[0m\u001b[0;34m(\u001b[0m\u001b[0;34m[\u001b[0m\u001b[0mnp\u001b[0m\u001b[0;34m.\u001b[0m\u001b[0mnan\u001b[0m\u001b[0;34m]\u001b[0m\u001b[0;34m)\u001b[0m\u001b[0;34m[\u001b[0m\u001b[0;36m0\u001b[0m\u001b[0;34m]\u001b[0m\u001b[0;34m\u001b[0m\u001b[0m\n\u001b[0m\u001b[1;32m      8\u001b[0m \u001b[0;34m\u001b[0m\u001b[0m\n\u001b[1;32m      9\u001b[0m     \u001b[0mcolumn\u001b[0m \u001b[0;34m=\u001b[0m \u001b[0mlist\u001b[0m\u001b[0;34m(\u001b[0m\u001b[0mcolumn\u001b[0m\u001b[0;34m)\u001b[0m\u001b[0;34m\u001b[0m\u001b[0m\n",
      "\u001b[0;32m/Users/mac28/anaconda/lib/python2.7/site-packages/sklearn/preprocessing/label.pyc\u001b[0m in \u001b[0;36mtransform\u001b[0;34m(self, y)\u001b[0m\n\u001b[1;32m    148\u001b[0m         \u001b[0;32mif\u001b[0m \u001b[0mlen\u001b[0m\u001b[0;34m(\u001b[0m\u001b[0mnp\u001b[0m\u001b[0;34m.\u001b[0m\u001b[0mintersect1d\u001b[0m\u001b[0;34m(\u001b[0m\u001b[0mclasses\u001b[0m\u001b[0;34m,\u001b[0m \u001b[0mself\u001b[0m\u001b[0;34m.\u001b[0m\u001b[0mclasses_\u001b[0m\u001b[0;34m)\u001b[0m\u001b[0;34m)\u001b[0m \u001b[0;34m<\u001b[0m \u001b[0mlen\u001b[0m\u001b[0;34m(\u001b[0m\u001b[0mclasses\u001b[0m\u001b[0;34m)\u001b[0m\u001b[0;34m:\u001b[0m\u001b[0;34m\u001b[0m\u001b[0m\n\u001b[1;32m    149\u001b[0m             \u001b[0mdiff\u001b[0m \u001b[0;34m=\u001b[0m \u001b[0mnp\u001b[0m\u001b[0;34m.\u001b[0m\u001b[0msetdiff1d\u001b[0m\u001b[0;34m(\u001b[0m\u001b[0mclasses\u001b[0m\u001b[0;34m,\u001b[0m \u001b[0mself\u001b[0m\u001b[0;34m.\u001b[0m\u001b[0mclasses_\u001b[0m\u001b[0;34m)\u001b[0m\u001b[0;34m\u001b[0m\u001b[0m\n\u001b[0;32m--> 150\u001b[0;31m             \u001b[0;32mraise\u001b[0m \u001b[0mValueError\u001b[0m\u001b[0;34m(\u001b[0m\u001b[0;34m\"y contains new labels: %s\"\u001b[0m \u001b[0;34m%\u001b[0m \u001b[0mstr\u001b[0m\u001b[0;34m(\u001b[0m\u001b[0mdiff\u001b[0m\u001b[0;34m)\u001b[0m\u001b[0;34m)\u001b[0m\u001b[0;34m\u001b[0m\u001b[0m\n\u001b[0m\u001b[1;32m    151\u001b[0m         \u001b[0;32mreturn\u001b[0m \u001b[0mnp\u001b[0m\u001b[0;34m.\u001b[0m\u001b[0msearchsorted\u001b[0m\u001b[0;34m(\u001b[0m\u001b[0mself\u001b[0m\u001b[0;34m.\u001b[0m\u001b[0mclasses_\u001b[0m\u001b[0;34m,\u001b[0m \u001b[0my\u001b[0m\u001b[0;34m)\u001b[0m\u001b[0;34m\u001b[0m\u001b[0m\n\u001b[1;32m    152\u001b[0m \u001b[0;34m\u001b[0m\u001b[0m\n",
      "\u001b[0;31mValueError\u001b[0m: y contains new labels: [ nan]"
     ]
    }
   ],
   "source": [
    "arr = np.array([np.nan, 'house', 'boat', 'houseboat', 'house', np.nan, 'house','houseboat'])\n",
    "prac_df = DataFrame()\n",
    "prac_df['arr'] = arr\n",
    "prac_df['arr']\n",
    "modeimputer(prac_df['arr'])"
   ]
  },
  {
   "cell_type": "code",
   "execution_count": null,
   "metadata": {
    "collapsed": false
   },
   "outputs": [],
   "source": []
  },
  {
   "cell_type": "code",
   "execution_count": 145,
   "metadata": {
    "collapsed": false
   },
   "outputs": [
    {
     "data": {
      "text/plain": [
       "False"
      ]
     },
     "execution_count": 145,
     "metadata": {},
     "output_type": "execute_result"
    }
   ],
   "source": [
    "pd.isnull('nan')"
   ]
  },
  {
   "cell_type": "code",
   "execution_count": 158,
   "metadata": {
    "collapsed": false
   },
   "outputs": [
    {
     "name": "stdout",
     "output_type": "stream",
     "text": [
      "<type 'float'>\n"
     ]
    },
    {
     "ename": "ValueError",
     "evalue": "y contains new labels: [ nan]",
     "output_type": "error",
     "traceback": [
      "\u001b[0;31m---------------------------------------------------------------------------\u001b[0m",
      "\u001b[0;31mValueError\u001b[0m                                Traceback (most recent call last)",
      "\u001b[0;32m<ipython-input-158-4e52685b345d>\u001b[0m in \u001b[0;36m<module>\u001b[0;34m()\u001b[0m\n\u001b[1;32m      7\u001b[0m \u001b[0;34m\u001b[0m\u001b[0m\n\u001b[1;32m      8\u001b[0m \u001b[0;34m\u001b[0m\u001b[0m\n\u001b[0;32m----> 9\u001b[0;31m \u001b[0mdframe\u001b[0m\u001b[0;34m[\u001b[0m\u001b[0;34m'housingtype'\u001b[0m\u001b[0;34m]\u001b[0m \u001b[0;34m=\u001b[0m \u001b[0mmodeimputer\u001b[0m\u001b[0;34m(\u001b[0m\u001b[0mdframe\u001b[0m\u001b[0;34m[\u001b[0m\u001b[0;34m'housingtype'\u001b[0m\u001b[0;34m]\u001b[0m\u001b[0;34m)\u001b[0m\u001b[0;34m\u001b[0m\u001b[0m\n\u001b[0m\u001b[1;32m     10\u001b[0m \u001b[0mdframe\u001b[0m\u001b[0;34m[\u001b[0m\u001b[0;34m'laundry'\u001b[0m\u001b[0;34m]\u001b[0m \u001b[0;34m=\u001b[0m \u001b[0mmodeimputer\u001b[0m\u001b[0;34m(\u001b[0m\u001b[0mdframe\u001b[0m\u001b[0;34m[\u001b[0m\u001b[0;34m'laundry'\u001b[0m\u001b[0;34m]\u001b[0m\u001b[0;34m)\u001b[0m\u001b[0;34m\u001b[0m\u001b[0m\n\u001b[1;32m     11\u001b[0m \u001b[0mdframe\u001b[0m\u001b[0;34m[\u001b[0m\u001b[0;34m'parking'\u001b[0m\u001b[0;34m]\u001b[0m \u001b[0;34m=\u001b[0m \u001b[0mmodeimputer\u001b[0m\u001b[0;34m(\u001b[0m\u001b[0mdframe\u001b[0m\u001b[0;34m[\u001b[0m\u001b[0;34m'parking'\u001b[0m\u001b[0;34m]\u001b[0m\u001b[0;34m)\u001b[0m\u001b[0;34m\u001b[0m\u001b[0m\n",
      "\u001b[0;32m<ipython-input-148-79c7c2143c47>\u001b[0m in \u001b[0;36mmodeimputer\u001b[0;34m(column)\u001b[0m\n\u001b[1;32m      5\u001b[0m     \u001b[0mcolumn\u001b[0m \u001b[0;34m=\u001b[0m \u001b[0mle\u001b[0m\u001b[0;34m.\u001b[0m\u001b[0mfit_transform\u001b[0m\u001b[0;34m(\u001b[0m\u001b[0mcolumn\u001b[0m\u001b[0;34m)\u001b[0m\u001b[0;34m\u001b[0m\u001b[0m\n\u001b[1;32m      6\u001b[0m     \u001b[0;32mprint\u001b[0m \u001b[0mtype\u001b[0m\u001b[0;34m(\u001b[0m\u001b[0mle\u001b[0m\u001b[0;34m.\u001b[0m\u001b[0mclasses_\u001b[0m\u001b[0;34m[\u001b[0m\u001b[0;36m0\u001b[0m\u001b[0;34m]\u001b[0m\u001b[0;34m)\u001b[0m\u001b[0;34m\u001b[0m\u001b[0m\n\u001b[0;32m----> 7\u001b[0;31m     \u001b[0mnan\u001b[0m \u001b[0;34m=\u001b[0m \u001b[0mle\u001b[0m\u001b[0;34m.\u001b[0m\u001b[0mtransform\u001b[0m\u001b[0;34m(\u001b[0m\u001b[0;34m[\u001b[0m\u001b[0mnp\u001b[0m\u001b[0;34m.\u001b[0m\u001b[0mnan\u001b[0m\u001b[0;34m]\u001b[0m\u001b[0;34m)\u001b[0m\u001b[0;34m[\u001b[0m\u001b[0;36m0\u001b[0m\u001b[0;34m]\u001b[0m\u001b[0;34m\u001b[0m\u001b[0m\n\u001b[0m\u001b[1;32m      8\u001b[0m \u001b[0;34m\u001b[0m\u001b[0m\n\u001b[1;32m      9\u001b[0m     \u001b[0mcolumn\u001b[0m \u001b[0;34m=\u001b[0m \u001b[0mlist\u001b[0m\u001b[0;34m(\u001b[0m\u001b[0mcolumn\u001b[0m\u001b[0;34m)\u001b[0m\u001b[0;34m\u001b[0m\u001b[0m\n",
      "\u001b[0;32m/Users/mac28/anaconda/lib/python2.7/site-packages/sklearn/preprocessing/label.pyc\u001b[0m in \u001b[0;36mtransform\u001b[0;34m(self, y)\u001b[0m\n\u001b[1;32m    148\u001b[0m         \u001b[0;32mif\u001b[0m \u001b[0mlen\u001b[0m\u001b[0;34m(\u001b[0m\u001b[0mnp\u001b[0m\u001b[0;34m.\u001b[0m\u001b[0mintersect1d\u001b[0m\u001b[0;34m(\u001b[0m\u001b[0mclasses\u001b[0m\u001b[0;34m,\u001b[0m \u001b[0mself\u001b[0m\u001b[0;34m.\u001b[0m\u001b[0mclasses_\u001b[0m\u001b[0;34m)\u001b[0m\u001b[0;34m)\u001b[0m \u001b[0;34m<\u001b[0m \u001b[0mlen\u001b[0m\u001b[0;34m(\u001b[0m\u001b[0mclasses\u001b[0m\u001b[0;34m)\u001b[0m\u001b[0;34m:\u001b[0m\u001b[0;34m\u001b[0m\u001b[0m\n\u001b[1;32m    149\u001b[0m             \u001b[0mdiff\u001b[0m \u001b[0;34m=\u001b[0m \u001b[0mnp\u001b[0m\u001b[0;34m.\u001b[0m\u001b[0msetdiff1d\u001b[0m\u001b[0;34m(\u001b[0m\u001b[0mclasses\u001b[0m\u001b[0;34m,\u001b[0m \u001b[0mself\u001b[0m\u001b[0;34m.\u001b[0m\u001b[0mclasses_\u001b[0m\u001b[0;34m)\u001b[0m\u001b[0;34m\u001b[0m\u001b[0m\n\u001b[0;32m--> 150\u001b[0;31m             \u001b[0;32mraise\u001b[0m \u001b[0mValueError\u001b[0m\u001b[0;34m(\u001b[0m\u001b[0;34m\"y contains new labels: %s\"\u001b[0m \u001b[0;34m%\u001b[0m \u001b[0mstr\u001b[0m\u001b[0;34m(\u001b[0m\u001b[0mdiff\u001b[0m\u001b[0;34m)\u001b[0m\u001b[0;34m)\u001b[0m\u001b[0;34m\u001b[0m\u001b[0m\n\u001b[0m\u001b[1;32m    151\u001b[0m         \u001b[0;32mreturn\u001b[0m \u001b[0mnp\u001b[0m\u001b[0;34m.\u001b[0m\u001b[0msearchsorted\u001b[0m\u001b[0;34m(\u001b[0m\u001b[0mself\u001b[0m\u001b[0;34m.\u001b[0m\u001b[0mclasses_\u001b[0m\u001b[0;34m,\u001b[0m \u001b[0my\u001b[0m\u001b[0;34m)\u001b[0m\u001b[0;34m\u001b[0m\u001b[0m\n\u001b[1;32m    152\u001b[0m \u001b[0;34m\u001b[0m\u001b[0m\n",
      "\u001b[0;31mValueError\u001b[0m: y contains new labels: [ nan]"
     ]
    }
   ],
   "source": [
    "u_dframe = DataFrame()\n",
    "dframe['bath'] = meanimputer(dframe['bath'])\n",
    "dframe['bed'] = meanimputer(dframe['bed'])\n",
    "dframe['feet'] = meanimputer(dframe['feet'])\n",
    "dframe['lat'] = meanimputer(dframe['lat'])\n",
    "dframe['long'] = meanimputer(dframe['long'])\n",
    "\n",
    "\n",
    "dframe['housingtype'] = modeimputer(dframe['housingtype'])\n",
    "dframe['laundry'] = modeimputer(dframe['laundry'])\n",
    "dframe['parking'] = modeimputer(dframe['parking'])\n",
    "dframe['wheelchair'] = modeimputer(dframe['wheelchair'])\n",
    "\n",
    "\n"
   ]
  },
  {
   "cell_type": "code",
   "execution_count": 10,
   "metadata": {
    "collapsed": false
   },
   "outputs": [
    {
     "data": {
      "text/html": [
       "<div>\n",
       "<table border=\"1\" class=\"dataframe\">\n",
       "  <thead>\n",
       "    <tr style=\"text-align: right;\">\n",
       "      <th></th>\n",
       "      <th>bath</th>\n",
       "      <th>bed</th>\n",
       "      <th>cat</th>\n",
       "      <th>content</th>\n",
       "      <th>date</th>\n",
       "      <th>dog</th>\n",
       "      <th>feet</th>\n",
       "      <th>getphotos</th>\n",
       "      <th>hasmap</th>\n",
       "      <th>housingtype</th>\n",
       "      <th>lat</th>\n",
       "      <th>laundry</th>\n",
       "      <th>long</th>\n",
       "      <th>parking</th>\n",
       "      <th>price</th>\n",
       "      <th>smoking</th>\n",
       "      <th>time</th>\n",
       "      <th>wheelchair</th>\n",
       "    </tr>\n",
       "  </thead>\n",
       "  <tbody>\n",
       "    <tr>\n",
       "      <th>5399866740</th>\n",
       "      <td>1.0</td>\n",
       "      <td>1.00000</td>\n",
       "      <td>0</td>\n",
       "      <td>754</td>\n",
       "      <td>2016-01-12</td>\n",
       "      <td>0</td>\n",
       "      <td>750</td>\n",
       "      <td>8</td>\n",
       "      <td>0</td>\n",
       "      <td>apartment</td>\n",
       "      <td>45.518067</td>\n",
       "      <td>w/d in unit</td>\n",
       "      <td>-122.629399</td>\n",
       "      <td>NaN</td>\n",
       "      <td>1400</td>\n",
       "      <td>0</td>\n",
       "      <td>12:22:07</td>\n",
       "      <td>NaN</td>\n",
       "    </tr>\n",
       "    <tr>\n",
       "      <th>5401772970</th>\n",
       "      <td>1.0</td>\n",
       "      <td>1.00000</td>\n",
       "      <td>1</td>\n",
       "      <td>2632</td>\n",
       "      <td>2016-01-13</td>\n",
       "      <td>1</td>\n",
       "      <td>659</td>\n",
       "      <td>7</td>\n",
       "      <td>1</td>\n",
       "      <td>apartment</td>\n",
       "      <td>45.531019</td>\n",
       "      <td>w/d in unit</td>\n",
       "      <td>-122.664049</td>\n",
       "      <td>attached garage</td>\n",
       "      <td>1350</td>\n",
       "      <td>no smoking</td>\n",
       "      <td>16:24:11</td>\n",
       "      <td>wheelchair accessible</td>\n",
       "    </tr>\n",
       "    <tr>\n",
       "      <th>5402562933</th>\n",
       "      <td>1.5</td>\n",
       "      <td>1.43292</td>\n",
       "      <td>0</td>\n",
       "      <td>1001</td>\n",
       "      <td>2016-01-14</td>\n",
       "      <td>0</td>\n",
       "      <td>1</td>\n",
       "      <td>2</td>\n",
       "      <td>1</td>\n",
       "      <td>apartment</td>\n",
       "      <td>45.533334</td>\n",
       "      <td>laundry on site</td>\n",
       "      <td>-122.708927</td>\n",
       "      <td>carport</td>\n",
       "      <td>1500</td>\n",
       "      <td>no smoking</td>\n",
       "      <td>09:12:40</td>\n",
       "      <td>NaN</td>\n",
       "    </tr>\n",
       "    <tr>\n",
       "      <th>5402607488</th>\n",
       "      <td>1.0</td>\n",
       "      <td>2.00000</td>\n",
       "      <td>0</td>\n",
       "      <td>2259</td>\n",
       "      <td>2016-01-14</td>\n",
       "      <td>0</td>\n",
       "      <td>936</td>\n",
       "      <td>12</td>\n",
       "      <td>1</td>\n",
       "      <td>condo</td>\n",
       "      <td>45.532808</td>\n",
       "      <td>w/d in unit</td>\n",
       "      <td>-122.698992</td>\n",
       "      <td>attached garage</td>\n",
       "      <td>1995</td>\n",
       "      <td>0</td>\n",
       "      <td>09:36:16</td>\n",
       "      <td>NaN</td>\n",
       "    </tr>\n",
       "    <tr>\n",
       "      <th>5402822514</th>\n",
       "      <td>1.0</td>\n",
       "      <td>1.00000</td>\n",
       "      <td>0</td>\n",
       "      <td>1110</td>\n",
       "      <td>2016-01-14</td>\n",
       "      <td>0</td>\n",
       "      <td>624</td>\n",
       "      <td>16</td>\n",
       "      <td>1</td>\n",
       "      <td>apartment</td>\n",
       "      <td>45.505277</td>\n",
       "      <td>w/d in unit</td>\n",
       "      <td>-122.617757</td>\n",
       "      <td>street parking</td>\n",
       "      <td>1495</td>\n",
       "      <td>0</td>\n",
       "      <td>11:31:03</td>\n",
       "      <td>NaN</td>\n",
       "    </tr>\n",
       "  </tbody>\n",
       "</table>\n",
       "</div>"
      ],
      "text/plain": [
       "            bath      bed cat content        date dog  feet getphotos hasmap  \\\n",
       "5399866740   1.0  1.00000   0     754  2016-01-12   0   750         8      0   \n",
       "5401772970   1.0  1.00000   1    2632  2016-01-13   1   659         7      1   \n",
       "5402562933   1.5  1.43292   0    1001  2016-01-14   0     1         2      1   \n",
       "5402607488   1.0  2.00000   0    2259  2016-01-14   0   936        12      1   \n",
       "5402822514   1.0  1.00000   0    1110  2016-01-14   0   624        16      1   \n",
       "\n",
       "           housingtype        lat          laundry        long  \\\n",
       "5399866740   apartment  45.518067      w/d in unit -122.629399   \n",
       "5401772970   apartment  45.531019      w/d in unit -122.664049   \n",
       "5402562933   apartment  45.533334  laundry on site -122.708927   \n",
       "5402607488       condo  45.532808      w/d in unit -122.698992   \n",
       "5402822514   apartment  45.505277      w/d in unit -122.617757   \n",
       "\n",
       "                    parking price     smoking      time             wheelchair  \n",
       "5399866740              NaN  1400           0  12:22:07                    NaN  \n",
       "5401772970  attached garage  1350  no smoking  16:24:11  wheelchair accessible  \n",
       "5402562933          carport  1500  no smoking  09:12:40                    NaN  \n",
       "5402607488  attached garage  1995           0  09:36:16                    NaN  \n",
       "5402822514   street parking  1495           0  11:31:03                    NaN  "
      ]
     },
     "execution_count": 10,
     "metadata": {},
     "output_type": "execute_result"
    }
   ],
   "source": [
    "dframe.head()"
   ]
  },
  {
   "cell_type": "code",
   "execution_count": 11,
   "metadata": {
    "collapsed": false
   },
   "outputs": [
    {
     "data": {
      "text/html": [
       "<div>\n",
       "<table border=\"1\" class=\"dataframe\">\n",
       "  <thead>\n",
       "    <tr style=\"text-align: right;\">\n",
       "      <th></th>\n",
       "      <th>bath</th>\n",
       "      <th>bed</th>\n",
       "      <th>cat</th>\n",
       "      <th>content</th>\n",
       "      <th>date</th>\n",
       "      <th>dog</th>\n",
       "      <th>feet</th>\n",
       "      <th>getphotos</th>\n",
       "      <th>hasmap</th>\n",
       "      <th>housingtype</th>\n",
       "      <th>lat</th>\n",
       "      <th>laundry</th>\n",
       "      <th>long</th>\n",
       "      <th>parking</th>\n",
       "      <th>price</th>\n",
       "      <th>smoking</th>\n",
       "      <th>time</th>\n",
       "      <th>wheelchair</th>\n",
       "    </tr>\n",
       "  </thead>\n",
       "  <tbody>\n",
       "    <tr>\n",
       "      <th>count</th>\n",
       "      <td>28910.000000</td>\n",
       "      <td>28910.000000</td>\n",
       "      <td>28910</td>\n",
       "      <td>28910</td>\n",
       "      <td>28910</td>\n",
       "      <td>28910</td>\n",
       "      <td>28910.000000</td>\n",
       "      <td>28910</td>\n",
       "      <td>28910</td>\n",
       "      <td>28894</td>\n",
       "      <td>28910.000000</td>\n",
       "      <td>27078</td>\n",
       "      <td>28910.000000</td>\n",
       "      <td>21597</td>\n",
       "      <td>28673</td>\n",
       "      <td>28910</td>\n",
       "      <td>28910</td>\n",
       "      <td>5789</td>\n",
       "    </tr>\n",
       "    <tr>\n",
       "      <th>unique</th>\n",
       "      <td>NaN</td>\n",
       "      <td>NaN</td>\n",
       "      <td>2</td>\n",
       "      <td>3660</td>\n",
       "      <td>109</td>\n",
       "      <td>2</td>\n",
       "      <td>NaN</td>\n",
       "      <td>24</td>\n",
       "      <td>2</td>\n",
       "      <td>11</td>\n",
       "      <td>NaN</td>\n",
       "      <td>5</td>\n",
       "      <td>NaN</td>\n",
       "      <td>7</td>\n",
       "      <td>1908</td>\n",
       "      <td>2</td>\n",
       "      <td>20949</td>\n",
       "      <td>1</td>\n",
       "    </tr>\n",
       "    <tr>\n",
       "      <th>top</th>\n",
       "      <td>NaN</td>\n",
       "      <td>NaN</td>\n",
       "      <td>1</td>\n",
       "      <td>967</td>\n",
       "      <td>2016-04-25</td>\n",
       "      <td>1</td>\n",
       "      <td>NaN</td>\n",
       "      <td>8</td>\n",
       "      <td>1</td>\n",
       "      <td>apartment</td>\n",
       "      <td>NaN</td>\n",
       "      <td>w/d in unit</td>\n",
       "      <td>NaN</td>\n",
       "      <td>off-street parking</td>\n",
       "      <td>995</td>\n",
       "      <td>no smoking</td>\n",
       "      <td>10:05:48</td>\n",
       "      <td>wheelchair accessible</td>\n",
       "    </tr>\n",
       "    <tr>\n",
       "      <th>freq</th>\n",
       "      <td>NaN</td>\n",
       "      <td>NaN</td>\n",
       "      <td>19847</td>\n",
       "      <td>218</td>\n",
       "      <td>508</td>\n",
       "      <td>18652</td>\n",
       "      <td>NaN</td>\n",
       "      <td>2844</td>\n",
       "      <td>27641</td>\n",
       "      <td>22741</td>\n",
       "      <td>NaN</td>\n",
       "      <td>17651</td>\n",
       "      <td>NaN</td>\n",
       "      <td>7247</td>\n",
       "      <td>652</td>\n",
       "      <td>17888</td>\n",
       "      <td>7</td>\n",
       "      <td>5789</td>\n",
       "    </tr>\n",
       "    <tr>\n",
       "      <th>mean</th>\n",
       "      <td>1.323159</td>\n",
       "      <td>1.432920</td>\n",
       "      <td>NaN</td>\n",
       "      <td>NaN</td>\n",
       "      <td>NaN</td>\n",
       "      <td>NaN</td>\n",
       "      <td>939.769616</td>\n",
       "      <td>NaN</td>\n",
       "      <td>NaN</td>\n",
       "      <td>NaN</td>\n",
       "      <td>45.518067</td>\n",
       "      <td>NaN</td>\n",
       "      <td>-122.629399</td>\n",
       "      <td>NaN</td>\n",
       "      <td>NaN</td>\n",
       "      <td>NaN</td>\n",
       "      <td>NaN</td>\n",
       "      <td>NaN</td>\n",
       "    </tr>\n",
       "    <tr>\n",
       "      <th>std</th>\n",
       "      <td>0.523847</td>\n",
       "      <td>0.974134</td>\n",
       "      <td>NaN</td>\n",
       "      <td>NaN</td>\n",
       "      <td>NaN</td>\n",
       "      <td>NaN</td>\n",
       "      <td>4907.809014</td>\n",
       "      <td>NaN</td>\n",
       "      <td>NaN</td>\n",
       "      <td>NaN</td>\n",
       "      <td>0.126987</td>\n",
       "      <td>NaN</td>\n",
       "      <td>0.377066</td>\n",
       "      <td>NaN</td>\n",
       "      <td>NaN</td>\n",
       "      <td>NaN</td>\n",
       "      <td>NaN</td>\n",
       "      <td>NaN</td>\n",
       "    </tr>\n",
       "    <tr>\n",
       "      <th>min</th>\n",
       "      <td>0.500000</td>\n",
       "      <td>0.000000</td>\n",
       "      <td>NaN</td>\n",
       "      <td>NaN</td>\n",
       "      <td>NaN</td>\n",
       "      <td>NaN</td>\n",
       "      <td>-600.000000</td>\n",
       "      <td>NaN</td>\n",
       "      <td>NaN</td>\n",
       "      <td>NaN</td>\n",
       "      <td>33.764300</td>\n",
       "      <td>NaN</td>\n",
       "      <td>-124.960021</td>\n",
       "      <td>NaN</td>\n",
       "      <td>NaN</td>\n",
       "      <td>NaN</td>\n",
       "      <td>NaN</td>\n",
       "      <td>NaN</td>\n",
       "    </tr>\n",
       "    <tr>\n",
       "      <th>25%</th>\n",
       "      <td>1.000000</td>\n",
       "      <td>1.000000</td>\n",
       "      <td>NaN</td>\n",
       "      <td>NaN</td>\n",
       "      <td>NaN</td>\n",
       "      <td>NaN</td>\n",
       "      <td>644.000000</td>\n",
       "      <td>NaN</td>\n",
       "      <td>NaN</td>\n",
       "      <td>NaN</td>\n",
       "      <td>45.504795</td>\n",
       "      <td>NaN</td>\n",
       "      <td>-122.685400</td>\n",
       "      <td>NaN</td>\n",
       "      <td>NaN</td>\n",
       "      <td>NaN</td>\n",
       "      <td>NaN</td>\n",
       "      <td>NaN</td>\n",
       "    </tr>\n",
       "    <tr>\n",
       "      <th>50%</th>\n",
       "      <td>1.000000</td>\n",
       "      <td>1.000000</td>\n",
       "      <td>NaN</td>\n",
       "      <td>NaN</td>\n",
       "      <td>NaN</td>\n",
       "      <td>NaN</td>\n",
       "      <td>888.000000</td>\n",
       "      <td>NaN</td>\n",
       "      <td>NaN</td>\n",
       "      <td>NaN</td>\n",
       "      <td>45.518067</td>\n",
       "      <td>NaN</td>\n",
       "      <td>-122.662622</td>\n",
       "      <td>NaN</td>\n",
       "      <td>NaN</td>\n",
       "      <td>NaN</td>\n",
       "      <td>NaN</td>\n",
       "      <td>NaN</td>\n",
       "    </tr>\n",
       "    <tr>\n",
       "      <th>75%</th>\n",
       "      <td>2.000000</td>\n",
       "      <td>2.000000</td>\n",
       "      <td>NaN</td>\n",
       "      <td>NaN</td>\n",
       "      <td>NaN</td>\n",
       "      <td>NaN</td>\n",
       "      <td>1000.000000</td>\n",
       "      <td>NaN</td>\n",
       "      <td>NaN</td>\n",
       "      <td>NaN</td>\n",
       "      <td>45.532156</td>\n",
       "      <td>NaN</td>\n",
       "      <td>-122.612000</td>\n",
       "      <td>NaN</td>\n",
       "      <td>NaN</td>\n",
       "      <td>NaN</td>\n",
       "      <td>NaN</td>\n",
       "      <td>NaN</td>\n",
       "    </tr>\n",
       "    <tr>\n",
       "      <th>max</th>\n",
       "      <td>6.000000</td>\n",
       "      <td>8.000000</td>\n",
       "      <td>NaN</td>\n",
       "      <td>NaN</td>\n",
       "      <td>NaN</td>\n",
       "      <td>NaN</td>\n",
       "      <td>825842.000000</td>\n",
       "      <td>NaN</td>\n",
       "      <td>NaN</td>\n",
       "      <td>NaN</td>\n",
       "      <td>47.680721</td>\n",
       "      <td>NaN</td>\n",
       "      <td>-76.484000</td>\n",
       "      <td>NaN</td>\n",
       "      <td>NaN</td>\n",
       "      <td>NaN</td>\n",
       "      <td>NaN</td>\n",
       "      <td>NaN</td>\n",
       "    </tr>\n",
       "  </tbody>\n",
       "</table>\n",
       "</div>"
      ],
      "text/plain": [
       "                bath           bed    cat  content        date    dog  \\\n",
       "count   28910.000000  28910.000000  28910    28910       28910  28910   \n",
       "unique           NaN           NaN      2     3660         109      2   \n",
       "top              NaN           NaN      1      967  2016-04-25      1   \n",
       "freq             NaN           NaN  19847      218         508  18652   \n",
       "mean        1.323159      1.432920    NaN      NaN         NaN    NaN   \n",
       "std         0.523847      0.974134    NaN      NaN         NaN    NaN   \n",
       "min         0.500000      0.000000    NaN      NaN         NaN    NaN   \n",
       "25%         1.000000      1.000000    NaN      NaN         NaN    NaN   \n",
       "50%         1.000000      1.000000    NaN      NaN         NaN    NaN   \n",
       "75%         2.000000      2.000000    NaN      NaN         NaN    NaN   \n",
       "max         6.000000      8.000000    NaN      NaN         NaN    NaN   \n",
       "\n",
       "                 feet  getphotos  hasmap housingtype           lat  \\\n",
       "count    28910.000000      28910   28910       28894  28910.000000   \n",
       "unique            NaN         24       2          11           NaN   \n",
       "top               NaN          8       1   apartment           NaN   \n",
       "freq              NaN       2844   27641       22741           NaN   \n",
       "mean       939.769616        NaN     NaN         NaN     45.518067   \n",
       "std       4907.809014        NaN     NaN         NaN      0.126987   \n",
       "min       -600.000000        NaN     NaN         NaN     33.764300   \n",
       "25%        644.000000        NaN     NaN         NaN     45.504795   \n",
       "50%        888.000000        NaN     NaN         NaN     45.518067   \n",
       "75%       1000.000000        NaN     NaN         NaN     45.532156   \n",
       "max     825842.000000        NaN     NaN         NaN     47.680721   \n",
       "\n",
       "            laundry          long             parking  price     smoking  \\\n",
       "count         27078  28910.000000               21597  28673       28910   \n",
       "unique            5           NaN                   7   1908           2   \n",
       "top     w/d in unit           NaN  off-street parking    995  no smoking   \n",
       "freq          17651           NaN                7247    652       17888   \n",
       "mean            NaN   -122.629399                 NaN    NaN         NaN   \n",
       "std             NaN      0.377066                 NaN    NaN         NaN   \n",
       "min             NaN   -124.960021                 NaN    NaN         NaN   \n",
       "25%             NaN   -122.685400                 NaN    NaN         NaN   \n",
       "50%             NaN   -122.662622                 NaN    NaN         NaN   \n",
       "75%             NaN   -122.612000                 NaN    NaN         NaN   \n",
       "max             NaN    -76.484000                 NaN    NaN         NaN   \n",
       "\n",
       "            time             wheelchair  \n",
       "count      28910                   5789  \n",
       "unique     20949                      1  \n",
       "top     10:05:48  wheelchair accessible  \n",
       "freq           7                   5789  \n",
       "mean         NaN                    NaN  \n",
       "std          NaN                    NaN  \n",
       "min          NaN                    NaN  \n",
       "25%          NaN                    NaN  \n",
       "50%          NaN                    NaN  \n",
       "75%          NaN                    NaN  \n",
       "max          NaN                    NaN  "
      ]
     },
     "execution_count": 11,
     "metadata": {},
     "output_type": "execute_result"
    }
   ],
   "source": [
    "dframe.describe(include='all')"
   ]
  },
  {
   "cell_type": "code",
   "execution_count": null,
   "metadata": {
    "collapsed": false
   },
   "outputs": [],
   "source": [
    "data = dframe[dframe.lat > 45.4][dframe.lat < 45.6][dframe.long < -122.0][dframe.long > -123.5]\n",
    "plt.figure(figsize=(15,10))\n",
    "plt.scatter(data = data, x = 'long',y='lat')\n"
   ]
  },
  {
   "cell_type": "markdown",
   "metadata": {},
   "source": [
    "### It looks like Portland!!!\n",
    "Let's cluster the data. Start by creating a list of [['lat','long'], ...]"
   ]
  },
  {
   "cell_type": "code",
   "execution_count": null,
   "metadata": {
    "collapsed": false
   },
   "outputs": [],
   "source": [
    "XYdf = dframe[dframe.lat > 45.4][dframe.lat < 45.6][dframe.long < -122.0][dframe.long > -123.5]\n",
    "data = [[XYdf['lat'][i],XYdf['long'][i]] for i in XYdf.index]\n",
    "\n"
   ]
  },
  {
   "cell_type": "markdown",
   "metadata": {},
   "source": [
    "We'll use K Means Clustering because that's the clustering method I recently learned in class! There may be others that work better, but this is the tool that I know"
   ]
  },
  {
   "cell_type": "code",
   "execution_count": null,
   "metadata": {
    "collapsed": false
   },
   "outputs": [],
   "source": [
    "from sklearn.cluster import KMeans\n",
    "km = KMeans(n_clusters=40)\n",
    "km.fit(data)\n",
    "neighborhoods = km.cluster_centers_\n"
   ]
  },
  {
   "cell_type": "code",
   "execution_count": null,
   "metadata": {
    "collapsed": false
   },
   "outputs": [],
   "source": [
    "%pylab inline\n",
    "figure(1,figsize=(20,12))\n",
    "plot([row[1] for row in data],[row[0] for row in data],'b.')\n",
    "for i in km.cluster_centers_:  \n",
    "    plot(i[1],i[0], 'g*',ms=25)\n",
    "'''Note to Riley: come back and make it look pretty'''"
   ]
  },
  {
   "cell_type": "markdown",
   "metadata": {},
   "source": [
    "### We chose our neighborhoods!\n",
    "I've found that every once in a while the centers end up in different points, but are fairly consistant. Now let's process our data points and figure out where the closest neighborhood center is to it!"
   ]
  },
  {
   "cell_type": "code",
   "execution_count": null,
   "metadata": {
    "collapsed": false
   },
   "outputs": [],
   "source": [
    "neighborhoods = neighborhoods.tolist()\n",
    "for i in enumerate(neighborhoods):\n",
    "    i[1].append(i[0])\n",
    "print neighborhoods"
   ]
  },
  {
   "cell_type": "markdown",
   "metadata": {},
   "source": [
    "Create a function that will label each point with a number coresponding to it's neighborhood"
   ]
  },
  {
   "cell_type": "code",
   "execution_count": null,
   "metadata": {
    "collapsed": false
   },
   "outputs": [],
   "source": [
    "def clusterer(X, Y,neighborhoods):\n",
    "    neighbors = []\n",
    "    for i in neighborhoods:\n",
    "        distance = ((i[0]-X)**2 + (i[1]-Y)**2)\n",
    "        neighbors.append(distance)\n",
    "    closest = min(neighbors)\n",
    "    return neighbors.index(closest)"
   ]
  },
  {
   "cell_type": "code",
   "execution_count": null,
   "metadata": {
    "collapsed": false
   },
   "outputs": [],
   "source": [
    "neighborhoodlist = []\n",
    "for i in dframe.index:\n",
    "    neighborhoodlist.append(clusterer(dframe['lat'][i],dframe['long'][i],neighborhoods))\n",
    "dframe['neighborhood'] = neighborhoodlist\n"
   ]
  },
  {
   "cell_type": "code",
   "execution_count": null,
   "metadata": {
    "collapsed": false
   },
   "outputs": [],
   "source": [
    "dframe"
   ]
  },
  {
   "cell_type": "markdown",
   "metadata": {},
   "source": [
    "### Here's the new Part. We're breaking out the neighborhood values into their own columns. Now the algorithms can read them as categorical data rather than continuous data."
   ]
  },
  {
   "cell_type": "code",
   "execution_count": null,
   "metadata": {
    "collapsed": true
   },
   "outputs": [],
   "source": []
  },
  {
   "cell_type": "code",
   "execution_count": null,
   "metadata": {
    "collapsed": false
   },
   "outputs": [],
   "source": [
    "from sklearn import preprocessing\n",
    "def CategoricalToBinary(dframe,column_name):\n",
    "    le = preprocessing.LabelEncoder()\n",
    "    listy = le.fit_transform(dframe[column_name])\n",
    "    dframe[column_name] = listy\n",
    "    unique = dframe[column_name].unique()\n",
    "    serieslist = [list() for _ in xrange(len(unique))]\n",
    "    \n",
    "    \n",
    "    for column, _ in enumerate(serieslist):\n",
    "        for i, item in enumerate(dframe[column_name]):\n",
    "            if item == column:\n",
    "                serieslist[column].append(1)\n",
    "            else:\n",
    "                serieslist[column].append(0)\n",
    "        dframe[column_name+str(column)] = serieslist[column]\n",
    "\n",
    "   \n",
    "    return dframe\n",
    "\n",
    "\n",
    "\n"
   ]
  },
  {
   "cell_type": "code",
   "execution_count": null,
   "metadata": {
    "collapsed": false
   },
   "outputs": [],
   "source": [
    "pd.set_option('max_columns', 100)\n",
    "dframe = CategoricalToBinary(dframe,'housingtype')\n",
    "dframe = CategoricalToBinary(dframe,'parking')\n",
    "dframe = CategoricalToBinary(dframe,'laundry')\n",
    "dframe = CategoricalToBinary(dframe,'smoking')\n",
    "dframe = CategoricalToBinary(dframe,'wheelchair')\n",
    "dframe = CategoricalToBinary(dframe,'neighborhood')\n",
    "dframe\n"
   ]
  },
  {
   "cell_type": "code",
   "execution_count": null,
   "metadata": {
    "collapsed": false
   },
   "outputs": [],
   "source": [
    "dframe = dframe.drop('date',1)\n",
    "dframe = dframe.drop('housingtype',1)\n",
    "dframe = dframe.drop('parking',1)\n",
    "dframe = dframe.drop('laundry',1)\n",
    "dframe = dframe.drop('smoking',1)\n",
    "dframe = dframe.drop('wheelchair',1)\n",
    "dframe = dframe.drop('neighborhood',1)\n",
    "dframe = dframe.drop('time',1)\n",
    "\n",
    "\n"
   ]
  },
  {
   "cell_type": "code",
   "execution_count": null,
   "metadata": {
    "collapsed": false
   },
   "outputs": [],
   "source": [
    "columns=list(dframe.columns)\n"
   ]
  },
  {
   "cell_type": "code",
   "execution_count": null,
   "metadata": {
    "collapsed": false
   },
   "outputs": [],
   "source": [
    "from __future__ import division\n",
    "print len(dframe)\n",
    "df2 = dframe[dframe.price < 10000][columns].dropna()\n",
    "print len(df2)\n",
    "print len(df2)/len(dframe)\n",
    "\n",
    "price = df2[['price']].values\n",
    "columns.pop(columns.index('price'))\n",
    "features = df2[columns].values\n",
    "\n",
    "from sklearn.cross_validation import train_test_split\n",
    "features_train, features_test, price_train, price_test = train_test_split(features, price, test_size=0.1, random_state=42)"
   ]
  },
  {
   "cell_type": "markdown",
   "metadata": {},
   "source": [
    "Ok, lets put it through Decision Tree!"
   ]
  },
  {
   "cell_type": "markdown",
   "metadata": {},
   "source": [
    "## What about Random Forest?"
   ]
  },
  {
   "cell_type": "code",
   "execution_count": null,
   "metadata": {
    "collapsed": false
   },
   "outputs": [],
   "source": [
    "from sklearn.ensemble import RandomForestRegressor\n",
    "from sklearn.metrics import r2_score\n",
    "reg = RandomForestRegressor()\n",
    "reg = reg.fit(features_train, price_train)\n"
   ]
  },
  {
   "cell_type": "code",
   "execution_count": null,
   "metadata": {
    "collapsed": false
   },
   "outputs": [],
   "source": [
    "forest_pred = reg.predict(features_test)\n",
    "forest_pred = np.array([[item] for item in forest_pred])"
   ]
  },
  {
   "cell_type": "code",
   "execution_count": null,
   "metadata": {
    "collapsed": false
   },
   "outputs": [],
   "source": [
    "print r2_score(forest_pred, price_test)\n",
    "plt.scatter(forest_pred,price_test)\n"
   ]
  },
  {
   "cell_type": "code",
   "execution_count": null,
   "metadata": {
    "collapsed": false
   },
   "outputs": [],
   "source": [
    "df2['predictions'] = reg.predict(df2[columns])"
   ]
  },
  {
   "cell_type": "code",
   "execution_count": null,
   "metadata": {
    "collapsed": false
   },
   "outputs": [],
   "source": [
    "df2['predictions_diff'] = df2['predictions']-df2['price']"
   ]
  },
  {
   "cell_type": "code",
   "execution_count": null,
   "metadata": {
    "collapsed": false
   },
   "outputs": [],
   "source": [
    "sd = np.std(df2['predictions_diff'])\n",
    "sns.kdeplot(df2['predictions_diff'][df2['predictions_diff']>-150][df2['predictions_diff']<150])\n",
    "sns.plt.xlim(-150,150)"
   ]
  },
  {
   "cell_type": "code",
   "execution_count": null,
   "metadata": {
    "collapsed": false
   },
   "outputs": [],
   "source": [
    "data = df2[dframe.lat > 45.45][df2.lat < 45.6][df2.long < -122.4][df2.long > -122.8][df2['predictions_diff']>-150][df2['predictions_diff']<150]\n",
    "plt.figure(figsize=(15,10))\n",
    "plt.scatter(data = data, x = 'long',y='lat', c = 'predictions_diff',s=10,cmap='coolwarm')"
   ]
  },
  {
   "cell_type": "code",
   "execution_count": null,
   "metadata": {
    "collapsed": false,
    "scrolled": true
   },
   "outputs": [],
   "source": [
    "dframe"
   ]
  },
  {
   "cell_type": "code",
   "execution_count": null,
   "metadata": {
    "collapsed": false
   },
   "outputs": [],
   "source": [
    "print np.mean([1,2,34,np.nan])"
   ]
  },
  {
   "cell_type": "code",
   "execution_count": null,
   "metadata": {
    "collapsed": false
   },
   "outputs": [],
   "source": [
    "def averager(dframe):\n",
    "    dframe = dframe.T\n",
    "    dframe.dropna()\n",
    "    averages = {}\n",
    "    for listing in dframe:\n",
    "        try:\n",
    "            key = str(dframe[listing]['bed'])+','+str(dframe[listing]['bath'])+','+str(dframe[listing]['neighborhood'])+','+str(dframe[listing]['feet']-dframe[listing]['feet']%50)\n",
    "            if key not in averages:\n",
    "                averages[key] = {'average_list':[dframe[listing]['price']], 'average':0}\n",
    "            elif key in averages:\n",
    "                averages[key]['average_list'].append(dframe[listing]['price'])\n",
    "        except TypeError:\n",
    "            continue\n",
    "    for entry in averages:\n",
    "        averages[entry]['average'] = np.mean(averages[entry]['average_list'])\n",
    "    return averages\n",
    "            \n",
    "        \n",
    "            \n",
    "            \n",
    "        "
   ]
  },
  {
   "cell_type": "code",
   "execution_count": null,
   "metadata": {
    "collapsed": false
   },
   "outputs": [],
   "source": [
    "averages = averager(dframe)\n",
    "print averages"
   ]
  },
  {
   "cell_type": "code",
   "execution_count": null,
   "metadata": {
    "collapsed": false
   },
   "outputs": [],
   "source": [
    "dframe['averages']= averages[str(dframe['bed'])+','+str(dframe['bath'])+','+str(dframe['neighborhood'])+','+str(dframe['feet']-dframe['feet']%50)]"
   ]
  },
  {
   "cell_type": "code",
   "execution_count": null,
   "metadata": {
    "collapsed": false
   },
   "outputs": [],
   "source": [
    "dframe.T\n"
   ]
  },
  {
   "cell_type": "raw",
   "metadata": {},
   "source": []
  },
  {
   "cell_type": "markdown",
   "metadata": {},
   "source": [
    "Wow! up to .87! That's our best yet! What if we add more trees???"
   ]
  },
  {
   "cell_type": "code",
   "execution_count": null,
   "metadata": {
    "collapsed": false
   },
   "outputs": [],
   "source": [
    "reg = RandomForestRegressor(n_estimators = 100)\n",
    "reg = reg.fit(features_train, price_train)"
   ]
  },
  {
   "cell_type": "code",
   "execution_count": null,
   "metadata": {
    "collapsed": true
   },
   "outputs": [],
   "source": [
    "forest_pred = reg.predict(features_test)\n",
    "forest_pred = np.array([[item] for item in forest_pred])"
   ]
  },
  {
   "cell_type": "code",
   "execution_count": null,
   "metadata": {
    "collapsed": false
   },
   "outputs": [],
   "source": [
    "print r2_score(forest_pred, price_test)\n",
    "print plt.scatter(pred,price_test)"
   ]
  },
  {
   "cell_type": "code",
   "execution_count": null,
   "metadata": {
    "collapsed": true
   },
   "outputs": [],
   "source": []
  },
  {
   "cell_type": "code",
   "execution_count": null,
   "metadata": {
    "collapsed": false
   },
   "outputs": [],
   "source": [
    "from sklearn.tree import DecisionTreeRegressor\n",
    "reg = DecisionTreeRegressor(max_depth = 5)\n",
    "reg.fit(features_train, price_train)\n",
    "print len(features_train[0])\n",
    "columns = [str(x) for x in columns]\n",
    "print columns\n",
    "from sklearn.tree import export_graphviz\n",
    "export_graphviz(reg,feature_names=columns)"
   ]
  },
  {
   "cell_type": "markdown",
   "metadata": {},
   "source": [
    "Up to .88!"
   ]
  },
  {
   "cell_type": "markdown",
   "metadata": {},
   "source": [
    "So what is our goal now? I'd like to see if adjusting the number of neighborhoods increases the accuracy. same for the affect with the number of trees"
   ]
  },
  {
   "cell_type": "code",
   "execution_count": null,
   "metadata": {
    "collapsed": false
   },
   "outputs": [],
   "source": [
    "def neighborhood_optimizer(dframe,neighborhood_number_range, counter_num):\n",
    "    XYdf = dframe[dframe.lat > 45.4][dframe.lat < 45.6][dframe.long < -122.0][dframe.long > -123.5]\n",
    "    data = [[XYdf['lat'][i],XYdf['long'][i]] for i in XYdf.index]\n",
    "    r2_dict = []\n",
    "    for i in neighborhood_number_range:\n",
    "        counter = counter_num\n",
    "        average_accuracy_list = []\n",
    "        while counter > 0:\n",
    "            km = KMeans(n_clusters=i)\n",
    "            km.fit(data)\n",
    "            neighborhoods = km.cluster_centers_\n",
    "            neighborhoods = neighborhoods.tolist()\n",
    "            for x in enumerate(neighborhoods):\n",
    "                x[1].append(x[0])\n",
    "            neighborhoodlist = []\n",
    "            for z in dframe.index:\n",
    "                neighborhoodlist.append(clusterer(dframe['lat'][z],dframe['long'][z],neighborhoods))\n",
    "            dframecopy = dframe.copy()\n",
    "            dframecopy['neighborhood'] = Series((neighborhoodlist), index=dframe.index)\n",
    "            df2 = dframecopy[dframe.price < 10000][['bath','bed','feet','dog','cat','content','getphotos', 'hasmap', 'price','neighborhood']].dropna()\n",
    "            features = df2[['bath','bed','feet','dog','cat','content','getphotos', 'hasmap', 'neighborhood']].values\n",
    "            price = df2[['price']].values\n",
    "            features_train, features_test, price_train, price_test = train_test_split(features, price, test_size=0.1)\n",
    "            reg = RandomForestRegressor()\n",
    "            reg = reg.fit(features_train, price_train)\n",
    "            forest_pred = reg.predict(features_test)\n",
    "            forest_pred = np.array([[item] for item in forest_pred])\n",
    "            counter -= 1\n",
    "            average_accuracy_list.append(r2_score(forest_pred, price_test))\n",
    "        total = 0\n",
    "        for entry in average_accuracy_list:\n",
    "            total += entry\n",
    "        r2_accuracy = total/len(average_accuracy_list)\n",
    "        r2_dict.append((i,r2_accuracy))\n",
    "    print r2_dict\n",
    "    return r2_dict"
   ]
  },
  {
   "cell_type": "code",
   "execution_count": null,
   "metadata": {
    "collapsed": false
   },
   "outputs": [],
   "source": [
    "neighborhood_number_range = [i for _,i in enumerate(range(2,31,2))]\n",
    "neighborhood_number_range"
   ]
  },
  {
   "cell_type": "code",
   "execution_count": null,
   "metadata": {
    "collapsed": false,
    "scrolled": true
   },
   "outputs": [],
   "source": [
    "r2_dict = neighborhood_optimizer(dframe,neighborhood_number_range,10)"
   ]
  },
  {
   "cell_type": "code",
   "execution_count": null,
   "metadata": {
    "collapsed": false
   },
   "outputs": [],
   "source": [
    "r2_dict[:][0]"
   ]
  },
  {
   "cell_type": "code",
   "execution_count": null,
   "metadata": {
    "collapsed": false
   },
   "outputs": [],
   "source": [
    "plt.scatter([x[0] for x in r2_dict],[x[1] for x in r2_dict])"
   ]
  },
  {
   "cell_type": "markdown",
   "metadata": {},
   "source": [
    "Looks like the optimum is right around 10 or 11, and then starts to drop off. Let's get a little more granular and look at a smaller range"
   ]
  },
  {
   "cell_type": "code",
   "execution_count": null,
   "metadata": {
    "collapsed": false
   },
   "outputs": [],
   "source": [
    "neighborhood_number_range = [i for _,i in enumerate(range(7,15))]\n",
    "neighborhood_number_range"
   ]
  },
  {
   "cell_type": "code",
   "execution_count": null,
   "metadata": {
    "collapsed": false,
    "scrolled": true
   },
   "outputs": [],
   "source": [
    "r2_dict = neighborhood_optimizer(dframe,neighborhood_number_range,10)"
   ]
  },
  {
   "cell_type": "code",
   "execution_count": null,
   "metadata": {
    "collapsed": false
   },
   "outputs": [],
   "source": [
    "print r2_dict\n",
    "plt.scatter([x[0] for x in r2_dict],[x[1] for x in r2_dict])"
   ]
  },
  {
   "cell_type": "markdown",
   "metadata": {},
   "source": [
    "Trying a few times, it looks like 10, 11 and 12 get the best results at ~.85. Of course, we'll need to redo some of these optomizations after we properly process our data. Hopefully we'll see some more consistency then too."
   ]
  },
  {
   "cell_type": "code",
   "execution_count": null,
   "metadata": {
    "collapsed": false,
    "scrolled": true
   },
   "outputs": [],
   "source": [
    "r2_dict = neighborhood_optimizer(dframe,[10,11,12],25)"
   ]
  },
  {
   "cell_type": "markdown",
   "metadata": {},
   "source": [
    "Note #1 to Riley: (From Last time) Perhaps look into another regressor? see if there's one that's inherantly better at this kind of thing.\n",
    "\n",
    "Note #2 to Riley: Figure out how to process data so that you don't have to drop null values\n",
    "\n",
    "Note #3 to Riley: convert categorical data into binary\n",
    "\n",
    "Note #4 to Riley: I wonder if increasing the number of neighborhoods would become more accurate as we collect more data? like you could create a bunch of little accurate models instead of a bunch of bigger ones.\n",
    "\n",
    "Learned: If you plan on using Decision Tree/Random Forest from SKLearn, make sure you collect your discrete variables in separate columns and make them binary yes or no(0 or 1)."
   ]
  }
 ],
 "metadata": {
  "kernelspec": {
   "display_name": "Python 2",
   "language": "python",
   "name": "python2"
  },
  "language_info": {
   "codemirror_mode": {
    "name": "ipython",
    "version": 2
   },
   "file_extension": ".py",
   "mimetype": "text/x-python",
   "name": "python",
   "nbconvert_exporter": "python",
   "pygments_lexer": "ipython2",
   "version": "2.7.11"
  }
 },
 "nbformat": 4,
 "nbformat_minor": 0
}
